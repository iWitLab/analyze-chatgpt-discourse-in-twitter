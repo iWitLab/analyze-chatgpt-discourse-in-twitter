{
 "cells": [
  {
   "cell_type": "code",
   "execution_count": null,
   "id": "initial_id",
   "metadata": {
    "collapsed": true
   },
   "outputs": [],
   "source": [
    "from random import randint\n",
    "from time import sleep\n",
    "\n",
    "import numpy as np\n",
    "import openai\n",
    "import pandas as pd"
   ]
  },
  {
   "cell_type": "code",
   "execution_count": null,
   "outputs": [],
   "source": [
    "tweets_file_name = \"./all_tweets_from_last_7_days_04062023_with_sentiment_emotion.csv\"\n",
    "df = pd.read_csv(tweets_file_name)\n",
    "\n",
    "df[\"gpt_emotion\"] = np.nan\n",
    "df.to_csv(\"./all_tweets_04062023_with_sentiment_emotion_and_sentiment_from_chatGPT.csv\")"
   ],
   "metadata": {
    "collapsed": false
   },
   "id": "54ba95762f88e081"
  },
  {
   "cell_type": "code",
   "execution_count": null,
   "outputs": [],
   "source": [
    "# Set up the OpenAI API client\n",
    "openai.api_key = \"\"  # OPENAI - API KEY\n",
    "\n",
    "# Set up the model and prompt\n",
    "# \"gpt-3.5-turbo\"\n",
    "\n",
    "def sentiment_prompt(text):\n",
    "    # Add random delay to the function to avoid overload\n",
    "    delay = randint(1, 5)\n",
    "    sleep(delay)\n",
    "\n",
    "    model_engine = \"gpt-3.5-turbo\"\n",
    "    prompt = [{\"role\": \"user\",\n",
    "               \"content\": \"Is the sentiment of this tweet positive, neutral, or negative? Answer only with a number: 1 if positive, 2 if neutral, and 3 if negative. Here is the text:\"},\n",
    "              {\"role\": \"user\", \"content\": text}]\n",
    "\n",
    "    # Generate a response\n",
    "    completion = openai.ChatCompletion.create(\n",
    "        model=model_engine,\n",
    "        messages=prompt,\n",
    "        #max_tokens=1024,\n",
    "        #n=1,\n",
    "        #stop=None,\n",
    "        #temperature=0.5,\n",
    "    )\n",
    "\n",
    "    # print(completion)\n",
    "    response = completion[\"choices\"][0][\"message\"][\"content\"]\n",
    "    return response\n",
    "\n",
    "\n",
    "def emotion_prompt(text):\n",
    "    # Add random delay to the function to avoid overload\n",
    "    delay = randint(1,3)\n",
    "    sleep(delay)\n",
    "\n",
    "    model_engine = \"gpt-3.5-turbo\"\n",
    "    prompt = [{\"role\": \"user\",\n",
    "               \"content\": \"Which of these emotions - anger, joy, sarcasm, fear, surprise, sadness, disgust, neutral - best represents the mental state of the person writing the following tweet? Answer only with a number: 1 if anger, 2 if joy, 3 if sarcasm, 4 if fear, 5 if surprise, 6 if sadness, 7 if disgust, 8 if neutral. Here is the text:\"},\n",
    "              {\"role\": \"user\", \"content\": text}]\n",
    "\n",
    "    # Generate a response\n",
    "    completion = openai.ChatCompletion.create(\n",
    "        model=model_engine,\n",
    "        messages=prompt,\n",
    "        #max_tokens=1024,\n",
    "        #n=1,\n",
    "        #stop=None,\n",
    "        #temperature=0.5,\n",
    "    )\n",
    "    response = completion[\"choices\"][0][\"message\"][\"content\"]\n",
    "    return response"
   ],
   "metadata": {
    "collapsed": false
   },
   "id": "c367d1cccac0d5d3"
  },
  {
   "cell_type": "markdown",
   "source": [
    "## Get sentiment of tweets from ChatGPT"
   ],
   "metadata": {
    "collapsed": false
   },
   "id": "97cd7c552ce95130"
  },
  {
   "cell_type": "code",
   "execution_count": null,
   "outputs": [],
   "source": [
    "tweets_file_name = \"./all_tweets_04062023_with_sentiment_emotion_and_sentiment_from_chatGPT_2.csv\"\n",
    "df = pd.read_csv(tweets_file_name)"
   ],
   "metadata": {
    "collapsed": false
   },
   "id": "ab74bd777276d40f"
  },
  {
   "cell_type": "code",
   "execution_count": null,
   "outputs": [],
   "source": [
    "for i, row in df.iterrows():\n",
    "    if pd.isnull(row.sentiment):\n",
    "        print(i)\n",
    "        try:\n",
    "            df.at[i,'sentiment'] = sentiment_prompt(row.text)\n",
    "        except:\n",
    "            print(\"somthing went wrong at index\", i)"
   ],
   "metadata": {
    "collapsed": false
   },
   "id": "7af3efedaff2088d"
  },
  {
   "cell_type": "markdown",
   "source": [
    "## Get emotion of tweets from ChatGPT"
   ],
   "metadata": {
    "collapsed": false
   },
   "id": "48c24c97aaa74f3"
  },
  {
   "cell_type": "code",
   "execution_count": null,
   "outputs": [],
   "source": [
    "tweets_file_name = \"./all_tweets_04062023_with_sentiment_emotion_and_sentiment_from_chatGPT_2.csv\"\n",
    "df = pd.read_csv(tweets_file_name)"
   ],
   "metadata": {
    "collapsed": false
   },
   "id": "a617abd942c2af31"
  },
  {
   "cell_type": "code",
   "execution_count": null,
   "outputs": [],
   "source": [
    "print(\"Starting the loop\")\n",
    "for i, row in df.iterrows():\n",
    "    if pd.isnull(row.gpt_emotion):\n",
    "        try:\n",
    "            df.at[i, 'gpt_emotion'] = emotion_prompt(row.post)\n",
    "        except:\n",
    "            print(\"somthing went wrong at index\", i)\n",
    "    if i % 500 == 0:\n",
    "        print(\"Saving the results at row \", i)\n",
    "        df.to_csv(\"./all_tweets_04062023_with_sentiment_emotion_and_sentiment_from_chatGPT_3.csv\")\n",
    "\n",
    "\n",
    "df.to_csv(\"./all_tweets_04062023_with_sentiment_emotion_and_sentiment_from_chatGPT_3.csv\")\n",
    "print(\"finished!\")"
   ],
   "metadata": {
    "collapsed": false
   },
   "id": "83cedecc996ad38"
  },
  {
   "cell_type": "markdown",
   "source": [
    "## Get topic groups for tweets from ChatGPT"
   ],
   "metadata": {
    "collapsed": false
   },
   "id": "bd64d5e3ef223f57"
  },
  {
   "cell_type": "code",
   "execution_count": null,
   "outputs": [],
   "source": [
    "import pandas as pd\n",
    "\n",
    "tweets_file_name = \"./all_tweets_04062023_with_sentiment_emotion_and_sentiment_from_chatGPT.csv\"\n",
    "df = pd.read_csv(tweets_file_name)\n",
    "\n",
    "print(df.columns)\n",
    "df = df.drop(columns=['Unnamed: 0', 'edit_history_tweet_ids', 'retweet_count', 'reply_count', 'like_count',\n",
    "                      'quote_count', 'impression_count', 'rule','clean_post', 'tokens', 'clean_post_for_sentiment', 'sentiment_score',\n",
    "                      'sentiment', 'emotion', 'emotion_score', 'gpt_emotion'])\n",
    "\n",
    "new_df = df.sample(n = 200, replace = False)\n",
    "\n",
    "new_df.to_csv(\"./random_200_teewts_to_classify.csv\")"
   ],
   "metadata": {
    "collapsed": false
   },
   "id": "57de741e9ab23ec7"
  },
  {
   "cell_type": "code",
   "execution_count": null,
   "outputs": [],
   "source": [
    "# Set up the OpenAI API client\n",
    "openai.api_key = \"\" # OPENAI - API KEY\n",
    "\n",
    "# Set up the model and prompt\n",
    "# \"gpt-3.5-turbo\"\n",
    "\n",
    "def classify_prompt(text):\n",
    "    # Add random delay to the function to avoid overload\n",
    "    delay = randint(1,3)\n",
    "    sleep(delay)\n",
    "\n",
    "    model_engine = \"gpt-3.5-turbo\"\n",
    "\n",
    "    prompt = [{\"role\": \"user\", \"content\": \"Which one of this topics best describes the following tweet? Answer only with the topic number. \\\n",
    "               Topic 1: ChatGPT's Description, Functionality, and Applications. \\\n",
    "               Topic 2: Criticism, Concerns, and Limitations of ChatGPT. \\\n",
    "               Topic 3: AI in Education, Employment, and Various Industries. \\\n",
    "               Topic 4: Comparison, Integration, and Advancements of AI Technologies. \\\n",
    "               Topic 5: Ethics, Bias, and Regulation of AI. \\\n",
    "               If none of the topics is suitable, write the word 'DIFFERENT'. \\\n",
    "               The tweet:\"},\n",
    "              {\"role\": \"user\", \"content\": text}]\n",
    "\n",
    "    # Generate a response\n",
    "    completion = openai.ChatCompletion.create(\n",
    "        model=model_engine,\n",
    "        messages=prompt,\n",
    "        #max_tokens=1024,\n",
    "        #n=1,\n",
    "        #stop=None,\n",
    "        temperature=0.5,\n",
    "    )\n",
    "    response = completion[\"choices\"][0][\"message\"][\"content\"]\n",
    "    return response\n",
    "\n",
    "tweets_file_name = \"./tweets_04062023_with_sentiment_emotion_for_chatgpt_filtered.csv\"\n",
    "df = pd.read_csv(tweets_file_name)\n",
    "\n",
    "df[\"gpt_classify\"] = np.nan\n",
    "\n",
    "print(\"Starting the loop\")\n",
    "for i, row in df.iterrows():\n",
    "    if pd.isnull(row.gpt_classify):\n",
    "        try:\n",
    "            df.at[i,'gpt_classify'] = classify_prompt(row.clean_post_for_themes_identification)\n",
    "        except:\n",
    "            print(\"somthing went wrong at index\", i)\n",
    "    if i % 500 == 0:\n",
    "        print(\"Saving the results at row \", i)\n",
    "        df.to_csv(\"./tweets_04062023_filtered_with_chatGPT_topic_classification_temp.csv\")\n",
    "\n",
    "\n",
    "df.to_csv(\"./tweets_04062023_filtered_with_chatGPT_topic_classification.csv\")\n",
    "print(\"finished!\")"
   ],
   "metadata": {
    "collapsed": false
   },
   "id": "5f7ecbdd818b9397"
  }
 ],
 "metadata": {
  "kernelspec": {
   "display_name": "Python 3",
   "language": "python",
   "name": "python3"
  },
  "language_info": {
   "codemirror_mode": {
    "name": "ipython",
    "version": 2
   },
   "file_extension": ".py",
   "mimetype": "text/x-python",
   "name": "python",
   "nbconvert_exporter": "python",
   "pygments_lexer": "ipython2",
   "version": "2.7.6"
  }
 },
 "nbformat": 4,
 "nbformat_minor": 5
}
