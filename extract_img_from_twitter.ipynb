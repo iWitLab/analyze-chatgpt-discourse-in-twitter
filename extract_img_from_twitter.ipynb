{
 "cells": [
  {
   "cell_type": "code",
   "execution_count": 18,
   "id": "c69f531a-9315-4bcb-93a5-a6d51aea5574",
   "metadata": {
    "ExecuteTime": {
     "end_time": "2023-05-15T10:11:48.701629100Z",
     "start_time": "2023-05-15T10:11:45.241758500Z"
    }
   },
   "outputs": [],
   "source": [
    "import pandas as pd\n",
    "import os\n",
    "import copy\n",
    "import re\n",
    "import ast\n",
    "\n",
    "from tqdm.notebook import tqdm\n",
    "tqdm.pandas()\n",
    "\n",
    "import urllib.request\n",
    "from urllib.parse import urlparse\n",
    "from bs4 import BeautifulSoup\n",
    "import requests\n",
    "import random\n",
    "import itertools\n",
    "import nltk\n",
    "# nltk.download('wordnet')\n",
    "import string\n",
    "import enchant\n",
    "import swifter\n",
    "import tqdm"
   ]
  },
  {
   "cell_type": "code",
   "execution_count": 20,
   "id": "add93248-0a86-4dcf-b0c3-324da7f09b08",
   "metadata": {
    "ExecuteTime": {
     "end_time": "2023-05-15T10:11:48.715886500Z",
     "start_time": "2023-05-15T10:11:48.702629700Z"
    }
   },
   "outputs": [],
   "source": [
    "DATE = '07052023'\n",
    "tweets_file_name = 'all_tweets_from_last_7_days_{}_with_sentiment_emotion'.format(DATE)"
   ]
  },
  {
   "cell_type": "markdown",
   "id": "f7e18029-7e98-40c4-9c09-e55c0099319b",
   "metadata": {},
   "source": [
    "# Read data"
   ]
  },
  {
   "cell_type": "code",
   "execution_count": 218,
   "id": "a9f02034-49e7-45a2-9106-4ce6d005e968",
   "metadata": {
    "ExecuteTime": {
     "end_time": "2023-05-15T10:11:52.770143200Z",
     "start_time": "2023-05-15T10:11:48.718952600Z"
    }
   },
   "outputs": [],
   "source": [
    "# Read the data\n",
    "posts = pd.read_csv(\"{}.csv\".format(tweets_file_name), nrows=None)"
   ]
  },
  {
   "cell_type": "code",
   "execution_count": 219,
   "id": "9b350753-e49f-4c75-a6b1-14d4f60ce07e",
   "metadata": {
    "ExecuteTime": {
     "end_time": "2023-05-15T10:12:04.859245600Z",
     "start_time": "2023-05-15T10:11:56.144667100Z"
    }
   },
   "outputs": [],
   "source": [
    "if 'tokens' in posts.columns:\n",
    "    tokens_list = [ast.literal_eval(pp) for pp in posts['tokens'].values.tolist()]\n",
    "    posts[\"tokens\"] = tokens_list"
   ]
  },
  {
   "cell_type": "code",
   "execution_count": 220,
   "id": "be643666-42f0-427e-9fb3-2dc827e5ac03",
   "metadata": {
    "ExecuteTime": {
     "end_time": "2023-05-15T10:12:05.092261800Z",
     "start_time": "2023-05-15T10:12:04.960563400Z"
    }
   },
   "outputs": [],
   "source": [
    "posts[\"id\"] = posts[\"id\"].astype(str)\n",
    "posts[\"author_id\"] = posts[\"author_id\"].astype(str)"
   ]
  },
  {
   "cell_type": "code",
   "execution_count": 221,
   "id": "69dfb117-07be-4a9b-adaf-3409f9476dbd",
   "metadata": {},
   "outputs": [],
   "source": [
    "# get the tweets with the most engagement and check the scrapping on them\n",
    "posts = posts.sort_values(by=[\"engagement_count\"], ascending=True)[0:10_000]"
   ]
  },
  {
   "cell_type": "markdown",
   "id": "c05fd7ea-a89f-483d-a8e0-ff91fba01156",
   "metadata": {},
   "source": [
    "# Extract URLs from text"
   ]
  },
  {
   "cell_type": "code",
   "execution_count": 223,
   "id": "c6704719-e767-4eff-ba89-3f496c725247",
   "metadata": {
    "ExecuteTime": {
     "end_time": "2023-05-15T10:12:05.145740300Z",
     "start_time": "2023-05-15T10:12:05.095844700Z"
    }
   },
   "outputs": [],
   "source": [
    "URL_REGEX = r'(https?://\\S+)'"
   ]
  },
  {
   "cell_type": "code",
   "execution_count": 224,
   "id": "ef9aea9b-55cd-4242-b62c-bb9398fdaed6",
   "metadata": {
    "ExecuteTime": {
     "end_time": "2023-05-15T10:12:05.146795Z",
     "start_time": "2023-05-15T10:12:05.130551800Z"
    }
   },
   "outputs": [],
   "source": [
    "def extract_url_from_text(text):\n",
    "    urls = re.findall(URL_REGEX, text)\n",
    "    return urls"
   ]
  },
  {
   "cell_type": "code",
   "execution_count": 227,
   "id": "f4010a62-c988-46e9-aa0e-1f67d3e42781",
   "metadata": {
    "ExecuteTime": {
     "end_time": "2023-05-15T10:12:06.356623900Z",
     "start_time": "2023-05-15T10:12:05.161165900Z"
    }
   },
   "outputs": [
    {
     "data": {
      "application/vnd.jupyter.widget-view+json": {
       "model_id": "ac2bc387d0d6410ba8686b17c1615cde",
       "version_major": 2,
       "version_minor": 0
      },
      "text/plain": [
       "  0%|          | 0/10000 [00:00<?, ?it/s]"
      ]
     },
     "metadata": {},
     "output_type": "display_data"
    }
   ],
   "source": [
    "posts[\"urls\"] = posts[\"post\"].progress_apply(lambda x: extract_url_from_text(x))"
   ]
  },
  {
   "cell_type": "code",
   "execution_count": 228,
   "id": "bad8b57b-d05e-41a0-901b-ba5dc9aa6cee",
   "metadata": {
    "ExecuteTime": {
     "end_time": "2023-05-15T10:12:06.559383500Z",
     "start_time": "2023-05-15T10:12:06.359623Z"
    }
   },
   "outputs": [
    {
     "name": "stdout",
     "output_type": "stream",
     "text": [
      "Non-empty extractec tiny URLs:  5662\n"
     ]
    }
   ],
   "source": [
    "print(\"Non-empty extractec tiny URLs: \", posts[posts[\"urls\"].map(len) > 0].shape[0])"
   ]
  },
  {
   "cell_type": "markdown",
   "id": "69829858-faa0-4bf9-980a-b40ec0b4cfd6",
   "metadata": {},
   "source": [
    "# Extract images from URL HTML "
   ]
  },
  {
   "cell_type": "code",
   "execution_count": 229,
   "id": "06e3902f-2259-456f-b6e6-69ff93605575",
   "metadata": {
    "ExecuteTime": {
     "end_time": "2023-05-15T10:12:09.802138Z",
     "start_time": "2023-05-15T10:12:09.710161200Z"
    }
   },
   "outputs": [],
   "source": [
    "import time \n",
    " \n",
    "import pandas as pd \n",
    "from selenium import webdriver \n",
    "from selenium.webdriver import Chrome \n",
    "from selenium.webdriver.chrome.service import Service \n",
    "from selenium.webdriver.common.by import By \n",
    "from webdriver_manager.chrome import ChromeDriverManager"
   ]
  },
  {
   "cell_type": "code",
   "execution_count": 230,
   "id": "ff3f99de-0ee4-4b61-b839-7585bae85bf2",
   "metadata": {
    "ExecuteTime": {
     "end_time": "2023-05-15T10:12:13.484533Z",
     "start_time": "2023-05-15T10:12:10.173864400Z"
    }
   },
   "outputs": [
    {
     "name": "stderr",
     "output_type": "stream",
     "text": [
      "C:\\Users\\user\\AppData\\Local\\Temp\\ipykernel_21920\\210964506.py:3: DeprecationWarning: headless property is deprecated, instead use add_argument('--headless') or add_argument('--headless=new')\n",
      "  options.headless = True # it's more scalable to work in headless mode\n"
     ]
    }
   ],
   "source": [
    "# start by defining the options \n",
    "options = webdriver.ChromeOptions() \n",
    "options.headless = True # it's more scalable to work in headless mode \n",
    "# normally, selenium waits for all resources to download \n",
    "# we don't need it as the page also populated with the running javascript code. \n",
    "options.page_load_strategy = 'none' \n",
    "# this returns the path web driver downloaded \n",
    "chrome_path = ChromeDriverManager().install() \n",
    "chrome_service = Service(chrome_path) \n",
    "# pass the defined options and service objects to initialize the web driver \n",
    "driver = Chrome(options=options, service=chrome_service) \n",
    "driver.implicitly_wait(5)"
   ]
  },
  {
   "cell_type": "code",
   "execution_count": 231,
   "id": "e7acd775-0ddb-4c67-86c1-1f2fadd4c355",
   "metadata": {
    "ExecuteTime": {
     "end_time": "2023-05-15T10:12:13.500170Z",
     "start_time": "2023-05-15T10:12:13.490713400Z"
    }
   },
   "outputs": [],
   "source": [
    "def extract_imgs_from_url(driver):\n",
    "    img_links = []\n",
    "    try:\n",
    "        imgs = driver.find_elements(By.TAG_NAME, \"img\")\n",
    "        for img in imgs:\n",
    "            img_src = img.get_attribute(\"src\")\n",
    "            if '/media/' in img_src:\n",
    "                img_links.append(img_src)\n",
    "        return img_links\n",
    "    except Exception as e:\n",
    "        return [f\"ERROR: {e}\"]"
   ]
  },
  {
   "cell_type": "code",
   "execution_count": 232,
   "id": "47c35284-2603-4c1d-84aa-0aae2a5c8f30",
   "metadata": {
    "ExecuteTime": {
     "end_time": "2023-05-15T10:12:13.517933300Z",
     "start_time": "2023-05-15T10:12:13.505773Z"
    }
   },
   "outputs": [],
   "source": [
    "def scrape_from_url(url):\n",
    "    time.sleep(random.uniform(0.6,1.1))\n",
    "    driver = Chrome(options=options, service=chrome_service) \n",
    "    driver.get(url)\n",
    "    time.sleep(6)\n",
    "    img_links = extract_imgs_from_url(driver)\n",
    "    driver.close()\n",
    "    return img_links\n",
    "    \n",
    "def scrape_from_urls(urls):\n",
    "    all_links = []\n",
    "    if not urls:\n",
    "        return all_links\n",
    "    for url in urls:\n",
    "        img_links = scrape_from_url(url)\n",
    "        all_links.append(img_links)\n",
    "    img_links_merged = list(itertools.chain.from_iterable(all_links))\n",
    "    return img_links_merged"
   ]
  },
  {
   "cell_type": "code",
   "execution_count": 233,
   "id": "78b00a32-1533-49b2-99fa-eef1c2d34f61",
   "metadata": {
    "ExecuteTime": {
     "end_time": "2023-05-15T10:12:54.208835100Z",
     "start_time": "2023-05-15T10:12:19.428385500Z"
    }
   },
   "outputs": [
    {
     "data": {
      "application/vnd.jupyter.widget-view+json": {
       "model_id": "595d39422b4d4f8daa06d61d48748051",
       "version_major": 2,
       "version_minor": 0
      },
      "text/plain": [
       "  0%|          | 0/10000 [00:00<?, ?it/s]"
      ]
     },
     "metadata": {},
     "output_type": "display_data"
    }
   ],
   "source": [
    "posts[\"imgs_urls\"] = posts[\"urls\"].progress_apply(lambda x: scrape_from_urls(x))"
   ]
  },
  {
   "cell_type": "code",
   "execution_count": 234,
   "id": "239e2f68-0960-441d-a16f-cb6801e34c50",
   "metadata": {},
   "outputs": [
    {
     "name": "stdout",
     "output_type": "stream",
     "text": [
      "Non-empty image URLs:  4130\n"
     ]
    }
   ],
   "source": [
    "print(\"Non-empty image URLs: \", posts[posts[\"imgs_urls\"].map(len) > 0].shape[0])"
   ]
  },
  {
   "cell_type": "markdown",
   "id": "80f12b1f-a98f-4260-8498-4342a59bce81",
   "metadata": {},
   "source": [
    "# Image to Text using pytesseract"
   ]
  },
  {
   "cell_type": "code",
   "execution_count": 138,
   "id": "23b41f61-5f9e-4880-b329-916cf08e4b79",
   "metadata": {},
   "outputs": [],
   "source": [
    "import pytesseract\n",
    "from PIL import Image\n",
    "import io\n",
    "pytesseract.pytesseract.tesseract_cmd = r'C:\\Program Files\\Tesseract-OCR\\tesseract.exe'"
   ]
  },
  {
   "cell_type": "code",
   "execution_count": 139,
   "id": "b6d800e3-7380-4cde-92b7-d7e3ac9b6f68",
   "metadata": {},
   "outputs": [
    {
     "name": "stdout",
     "output_type": "stream",
     "text": [
      "['eng', 'osd']\n"
     ]
    }
   ],
   "source": [
    "print(pytesseract.get_languages(config='')) "
   ]
  },
  {
   "cell_type": "code",
   "execution_count": 140,
   "id": "f3acd2a2-b6ac-4a92-b135-a070715a1fe0",
   "metadata": {},
   "outputs": [],
   "source": [
    "def img_to_text(img_url, lang=\"eng\", timeout=10):\n",
    "    time.sleep(random.uniform(0.2, 0.5))\n",
    "    try:\n",
    "        response = requests.get(img_url)\n",
    "        img = Image.open(io.BytesIO(response.content))\n",
    "        text = pytesseract.image_to_string(img, lang=lang, timeout=timeout)\n",
    "        return text\n",
    "    except Exception as e:\n",
    "        # return \"ERROR :{}\".format(e)\n",
    "        return \"\"\n",
    "\n",
    "def imgs_to_texts(urls, lang=\"eng\", timeout=10):\n",
    "    all_texts = []\n",
    "    for url in urls:\n",
    "        text = img_to_text(url, lang=lang, timeout=timeout)\n",
    "        all_texts.append(text)\n",
    "    all_texts = list(set(all_texts))\n",
    "    return all_texts"
   ]
  },
  {
   "cell_type": "code",
   "execution_count": 187,
   "id": "cca3ed52-8441-42fa-be72-34ea46f0aba7",
   "metadata": {},
   "outputs": [],
   "source": [
    "eng_dict = enchant.Dict(\"en_US\")\n",
    "\n",
    "SENTENCES_TO_IGNORE = [\"Send a message...\"]\n",
    "CHATGPT_SCREENSHOT_PATTERN = r\"ChatGPT [A-z][a-z][a-z] [1-9][0-9] Version\"\n",
    "TIME_PATTERN_REGEX = \"\"\n",
    "def clean_img_text(img_text):\n",
    "    source = 'Other'\n",
    "    img_text = img_text.replace(r'\\n', ' ').replace(r'\\r', '').strip()\n",
    "    img_text = re.sub(r'http\\S+', '', img_text, flags=re.MULTILINE)\n",
    "    img_text = re.sub(r'(\\d+):(\\d+)', '', img_text)\n",
    "    \n",
    "    chatgpt_patterns = re.search(CHATGPT_SCREENSHOT_PATTERN, img_text, flags=re.MULTILINE)\n",
    "    if chatgpt_patterns:\n",
    "        source = \"ChatGPT\"\n",
    "        print(chatgpt_patterns[0])\n",
    "        img_text = img_text.split(chatgpt_patterns[0])[0]\n",
    "    \n",
    "    translating = str.maketrans('', '', string.punctuation)\n",
    "    new_img_text = img_text.translate(translating)\n",
    "    img_text = ' '.join(word for word in new_img_text.split() if len(word.strip()) > 0 and eng_dict.check(word.strip()))\n",
    "\n",
    "    for sent in SENTENCES_TO_IGNORE:\n",
    "        if sent in img_text:\n",
    "            img_text = img_text.replace(sent, '')\n",
    "    return img_text, source\n",
    "\n",
    "def clean_imgs_texts(img_texts):\n",
    "    all_texts = []\n",
    "    all_sources = []\n",
    "    for text in img_texts:\n",
    "        clean_text, source = clean_img_text(text)\n",
    "        all_texts.append(clean_text)\n",
    "        all_sources.append(source)\n",
    "    return all_texts, all_sources"
   ]
  },
  {
   "cell_type": "code",
   "execution_count": 188,
   "id": "2feb5e54-4ad4-47cf-81f0-ef42fdb28795",
   "metadata": {},
   "outputs": [
    {
     "data": {
      "application/vnd.jupyter.widget-view+json": {
       "model_id": "fb836393aba049f3ba8f961414254515",
       "version_major": 2,
       "version_minor": 0
      },
      "text/plain": [
       "  0%|          | 0/1 [00:00<?, ?it/s]"
      ]
     },
     "metadata": {},
     "output_type": "display_data"
    }
   ],
   "source": [
    "posts[\"imgs_texts\"] = posts[\"imgs_urls\"].progress_apply(lambda x: imgs_to_texts(x))"
   ]
  },
  {
   "cell_type": "code",
   "execution_count": 189,
   "id": "a2cf5e30-336d-4340-9a5c-c553951c78d6",
   "metadata": {},
   "outputs": [
    {
     "data": {
      "application/vnd.jupyter.widget-view+json": {
       "model_id": "3896cb6bef7742b48c58494c354e8393",
       "version_major": 2,
       "version_minor": 0
      },
      "text/plain": [
       "  0%|          | 0/1 [00:00<?, ?it/s]"
      ]
     },
     "metadata": {},
     "output_type": "display_data"
    }
   ],
   "source": [
    "posts[\"imgs_clean_texts\"], posts[\"imgs_text_source\"] = zip(*posts[\"imgs_texts\"].progress_apply(lambda x: clean_imgs_texts(x)))"
   ]
  },
  {
   "cell_type": "code",
   "execution_count": 190,
   "id": "292ef076-d2bd-405a-ad78-757f25e7fef0",
   "metadata": {},
   "outputs": [
    {
     "name": "stdout",
     "output_type": "stream",
     "text": [
      "Non-empty image texts:  1\n"
     ]
    }
   ],
   "source": [
    "print(\"Non-empty image texts: \", posts[posts[\"imgs_clean_texts\"].map(len) > 0].shape[0])"
   ]
  },
  {
   "cell_type": "code",
   "execution_count": 206,
   "id": "bcf7139e-bc55-40b2-8dd5-5810776d0400",
   "metadata": {},
   "outputs": [
    {
     "data": {
      "application/vnd.jupyter.widget-view+json": {
       "model_id": "6f7e116a0f234d90a351dbe4dcfc6780",
       "version_major": 2,
       "version_minor": 0
      },
      "text/plain": [
       "  0%|          | 0/1 [00:00<?, ?it/s]"
      ]
     },
     "metadata": {},
     "output_type": "display_data"
    }
   ],
   "source": [
    "def get_only_chatgpt_texts(x):\n",
    "    chtgpt_txts = []\n",
    "    for  text, source in zip(x[0], x[1]):\n",
    "        if source == \"ChatGPT\":\n",
    "            chtgpt_txts.append(text)\n",
    "    return \" \".join(chtgpt_txts)\n",
    " \n",
    "posts[\"imgs_clean_texts_chatgpt\"] = posts[[\"imgs_clean_texts\", \"imgs_text_source\"]].progress_apply(lambda x: get_only_chatgpt_texts(x), axis=1)"
   ]
  },
  {
   "cell_type": "code",
   "execution_count": null,
   "id": "842607bc-62cb-4d0f-9ad7-dbb6717ea009",
   "metadata": {},
   "outputs": [],
   "source": [
    "posts[posts[\"imgs_clean_texts\"].map(len) > 0].head()"
   ]
  },
  {
   "cell_type": "code",
   "execution_count": null,
   "id": "eaa143ef-e824-4945-9a13-b04240ff92fb",
   "metadata": {},
   "outputs": [],
   "source": [
    "posts[posts[\"imgs_clean_texts_chatgpt\"].map(len) > 0].head()"
   ]
  },
  {
   "cell_type": "markdown",
   "id": "f6bbbbc5-823f-45c3-9b8a-8abb35d2fb92",
   "metadata": {},
   "source": [
    "# Save data to file"
   ]
  },
  {
   "cell_type": "code",
   "execution_count": 38,
   "id": "8f0a7027-b010-4865-a25c-987c620e6104",
   "metadata": {},
   "outputs": [],
   "source": [
    "save_file_path = tweets_file_name.split(\".csv\")[0] + \"_img_texts_10_000_most_engaged\" + \".csv\"\n",
    "posts.to_csv(save_file_path, index=False)"
   ]
  },
  {
   "cell_type": "markdown",
   "id": "bc27b58e-a17e-4a56-be83-179e18dee3ff",
   "metadata": {},
   "source": [
    "# Merge intermediate files"
   ]
  },
  {
   "cell_type": "code",
   "execution_count": 22,
   "id": "04f6d0fe-d9d3-4917-b142-8686c1749e4c",
   "metadata": {},
   "outputs": [
    {
     "name": "stdout",
     "output_type": "stream",
     "text": [
      "Reading file Scrapping\\all_tweets_from_last_7_days_07052023_with_sentiment_emotion_img_texts_0_10000.csv\n",
      "Reading file Scrapping\\all_tweets_from_last_7_days_07052023_with_sentiment_emotion_img_texts_10000_20000.csv\n",
      "Reading file Scrapping\\all_tweets_from_last_7_days_07052023_with_sentiment_emotion_img_texts_20000_30000.csv\n",
      "Reading file Scrapping\\all_tweets_from_last_7_days_07052023_with_sentiment_emotion_img_texts_30000_40000.csv\n",
      "Reading file Scrapping\\all_tweets_from_last_7_days_07052023_with_sentiment_emotion_img_texts_40000_50000.csv\n",
      "Reading file Scrapping\\all_tweets_from_last_7_days_07052023_with_sentiment_emotion_img_texts_50000_60000.csv\n",
      "Reading file Scrapping\\all_tweets_from_last_7_days_07052023_with_sentiment_emotion_img_texts_60000_70000.csv\n",
      "Reading file Scrapping\\all_tweets_from_last_7_days_07052023_with_sentiment_emotion_img_texts_70000_80000.csv\n",
      "Reading file Scrapping\\all_tweets_from_last_7_days_07052023_with_sentiment_emotion_img_texts_80000_90000.csv\n",
      "Reading file Scrapping\\all_tweets_from_last_7_days_07052023_with_sentiment_emotion_img_texts_90000_100000.csv\n",
      "Reading file Scrapping\\all_tweets_from_last_7_days_07052023_with_sentiment_emotion_img_texts_100000_120000.csv\n",
      "Reading file Scrapping\\all_tweets_from_last_7_days_07052023_with_sentiment_emotion_img_texts_120000_140000.csv\n",
      "Reading file Scrapping\\all_tweets_from_last_7_days_07052023_with_sentiment_emotion_img_texts_140000_160000.csv\n",
      "Reading file Scrapping\\all_tweets_from_last_7_days_07052023_with_sentiment_emotion_img_texts_160000_180000.csv\n",
      "Reading file Scrapping\\all_tweets_from_last_7_days_07052023_with_sentiment_emotion_img_texts_180000_200000.csv\n",
      "Reading file Scrapping\\all_tweets_from_last_7_days_07052023_with_sentiment_emotion_img_texts_220000_240000.csv\n",
      "Reading file Scrapping\\all_tweets_from_last_7_days_07052023_with_sentiment_emotion_img_texts_240000_260000.csv\n",
      "Reading file Scrapping\\all_tweets_from_last_7_days_07052023_with_sentiment_emotion_img_texts_260000_280000.csv\n"
     ]
    },
    {
     "name": "stderr",
     "output_type": "stream",
     "text": [
      "C:\\Users\\user\\AppData\\Local\\Temp\\ipykernel_4072\\2319831535.py:23: DtypeWarning: Columns (24) have mixed types. Specify dtype option on import or set low_memory=False.\n",
      "  interm_df = pd.read_csv(f_path)\n"
     ]
    },
    {
     "name": "stdout",
     "output_type": "stream",
     "text": [
      "Total files merged: 9\n",
      "Total tweets merged: 275741\n"
     ]
    }
   ],
   "source": [
    "# Merge all intermediate files\n",
    "files_dir = 'Scrapping'\n",
    "num_files = 0\n",
    "posts_all_df = pd.DataFrame()\n",
    "for i in range(20):\n",
    "    if i < 20:\n",
    "        f_path = os.path.join(files_dir, \"{}_{}_{}_{}.csv\".format(tweets_file_name, \"img_texts\", i*10_000, (i+1)*10_000))\n",
    "    if os.path.exists(f_path):\n",
    "        num_files = i + 1\n",
    "        print(\"Reading file {}\".format(f_path))\n",
    "    else:\n",
    "        continue\n",
    "    interm_df = pd.read_csv(f_path)\n",
    "    posts_all_df = pd.concat([posts_all_df, interm_df], axis=0)\n",
    "    \n",
    "for i in range(10):\n",
    "    f_path = os.path.join(files_dir, \"{}_{}_{}_{}.csv\".format(tweets_file_name, \"img_texts\", 100_000 + (i) * 20_000, 100_000 + (i+1)*20_000))\n",
    "    if os.path.exists(f_path):\n",
    "        num_files = i + 1\n",
    "        print(\"Reading file {}\".format(f_path))\n",
    "    else:\n",
    "        continue\n",
    "    interm_df = pd.read_csv(f_path)\n",
    "    posts_all_df = pd.concat([posts_all_df, interm_df], axis=0)\n",
    "    \n",
    "posts_all_df = posts_all_df.reset_index(drop=True)\n",
    "print(\"Total files merged: {}\".format(num_files))\n",
    "print(\"Total tweets merged: {}\".format(posts_all_df.shape[0]))"
   ]
  },
  {
   "cell_type": "code",
   "execution_count": 23,
   "id": "cbbd12dc-3a21-4038-b352-8afdb6643360",
   "metadata": {},
   "outputs": [],
   "source": [
    "posts_all_df[\"id\"] = posts_all_df[\"id\"].astype(str)"
   ]
  },
  {
   "cell_type": "code",
   "execution_count": 24,
   "id": "cfeda41a-0c65-41af-a49d-5ee5f7d3d70c",
   "metadata": {},
   "outputs": [
    {
     "name": "stdout",
     "output_type": "stream",
     "text": [
      "Total tweets merged with de-deduplication: 275741\n"
     ]
    }
   ],
   "source": [
    "# remove duplicates\n",
    "posts_all_df = posts_all_df.drop_duplicates(subset=[\"id\"])\n",
    "print(\"Total tweets merged with de-deduplication: {}\".format(posts_all_df.shape[0]))"
   ]
  },
  {
   "cell_type": "code",
   "execution_count": 29,
   "id": "86318cc7-c5de-4cc2-a59a-d2faf3ae348f",
   "metadata": {},
   "outputs": [],
   "source": [
    "from spacy.lang.en import stop_words\n",
    "import little_mallet_wrapper\n",
    "\n",
    "from spacy.lang.en import stop_words\n",
    "\n",
    "extended_stop_wrods = list(stop_words.STOP_WORDS)\n",
    "extended_stop_wrods.remove('no')\n",
    "extended_stop_wrods.remove('not')\n",
    "if \"doesnt\" in extended_stop_wrods:\n",
    "    extended_stop_wrods.remove(\"doesnt\")\n",
    "if \"doesn't\" in extended_stop_wrods:\n",
    "    extended_stop_wrods.remove(\"doesn't\")\n",
    "if \"dont\" in extended_stop_wrods:\n",
    "    extended_stop_wrods.remove(\"dont\")\n",
    "if \"don't\" in extended_stop_wrods:\n",
    "    extended_stop_wrods.remove(\"don't\")\n",
    "if \"aren't\" in extended_stop_wrods:\n",
    "    extended_stop_wrods.remove(\"aren't\")\n",
    "if \"arent\" in extended_stop_wrods:\n",
    "    extended_stop_wrods.remove(\"arent\")\n",
    "if \"give\" in extended_stop_wrods:\n",
    "    extended_stop_wrods.remove(\"give\")\n",
    "if \"up\" in extended_stop_wrods:\n",
    "    extended_stop_wrods.remove(\"up\")\n",
    "if \"call\" in extended_stop_wrods:\n",
    "    extended_stop_wrods.remove(\"call\")\n",
    "if \"down\" in extended_stop_wrods:\n",
    "    extended_stop_wrods.remove(\"down\")\n",
    "STOP_WORDS = set(extended_stop_wrods)\n",
    "\n",
    "def get_url_patern():\n",
    "    return re.compile(\n",
    "        r'(https?:\\/\\/(?:www\\.|(?!www))[a-zA-Z0-9][a-za-z0-9-]+[a-zA-Z0-9]\\.[^\\s]{2,}|https?:\\/\\/(?:www\\.|(?!www))'\n",
    "        r'[a-zA-Z0-9]\\.[^\\s]{2,}|www\\.[a-zA-Z0-9]\\.[^\\s]{2,})')\n",
    "\n",
    "\n",
    "def get_hashtags_pattern():\n",
    "    return re.compile(r'#\\w\\*')\n",
    "\n",
    "\n",
    "def get_single_letter_words_pattern():\n",
    "    return re.compile(r'(?<![\\w-])\\w(?![\\w-])')\n",
    "\n",
    "\n",
    "def get_blank_spaces_pattern():\n",
    "    return re.compile(r'\\s{2,}|\\t')\n",
    "\n",
    "\n",
    "def get_twitter_reserved_words_pattern():\n",
    "    return re.compile(r'(RT|rt|FAV|fav|VIA|via)')\n",
    "\n",
    "\n",
    "def get_mentions_pattern():\n",
    "    return re.compile(r'@\\w\\*')\n",
    "\n",
    "\n",
    "def clean_sentence(sentence, remove_stop_words=False, remove_short_words=False, remove_numbers=True):\n",
    "    sentence = re.sub(pattern=get_url_patern(), repl=\"\", string=sentence)\n",
    "    sentence = re.sub(pattern=get_mentions_pattern(), repl=\"\", string=sentence)\n",
    "    sentence = re.sub(pattern=get_hashtags_pattern(), repl=\"\", string=sentence)\n",
    "    sentence = re.sub(pattern=get_twitter_reserved_words_pattern(), repl='', string=sentence)\n",
    "    sentence = re.sub(r'http\\S+', \"\", sentence)  # remove http links\n",
    "    sentence = re.sub(r'bit.ly/\\S+', \"\", sentence)  # remove bitly links\n",
    "    sentence = sentence.strip('[link]')  # remove [links]\n",
    "    sentence = re.sub('(RT\\s@[A-Za-z]+[A-Za-z0-9-*]+)', \"\", sentence)  # remove retweet\n",
    "    sentence = re.sub('(@[A-Za-z]+[A-Za-z0-9-_]+)', \"\", sentence)  # remove tweeted at\n",
    "    sentence = sentence.encode('ascii', 'ignore').decode('ascii')\n",
    "\n",
    "    clean_sentence = little_mallet_wrapper.process_string(sentence,\n",
    "                                                          numbers='remove' if remove_numbers else None,\n",
    "                                                          remove_stop_words=remove_stop_words,\n",
    "                                                          remove_short_words=remove_short_words)\n",
    "    return clean_sentence\n",
    "\n",
    "import unicodedata\n",
    "# Our spaCy model:\n",
    "import en_core_web_trf\n",
    "nlp = en_core_web_trf.load()\n",
    "from nltk.tokenize.toktok import ToktokTokenizer\n",
    "\n",
    "CONTRACTION_MAP = {\n",
    "\"ain't\": \"is not\",\n",
    "\"aren't\": \"are not\",\n",
    "\"can't\": \"cannot\",\n",
    "\"can't've\": \"cannot have\",\n",
    "\"'cause\": \"because\",\n",
    "\"could've\": \"could have\",\n",
    "\"couldn't\": \"could not\",\n",
    "\"couldn't've\": \"could not have\",\n",
    "\"didn't\": \"did not\",\n",
    "\"doesn't\": \"does not\",\n",
    "\"don't\": \"do not\",\n",
    "\"hadn't\": \"had not\",\n",
    "\"hadn't've\": \"had not have\",\n",
    "\"hasn't\": \"has not\",\n",
    "\"haven't\": \"have not\",\n",
    "\"he'd\": \"he would\",\n",
    "\"he'd've\": \"he would have\",\n",
    "\"he'll\": \"he will\",\n",
    "\"he'll've\": \"he he will have\",\n",
    "\"he's\": \"he is\",\n",
    "\"how'd\": \"how did\",\n",
    "\"how'd'y\": \"how do you\",\n",
    "\"how'll\": \"how will\",\n",
    "\"how's\": \"how is\",\n",
    "\"I'd\": \"I would\",\n",
    "\"I'd've\": \"I would have\",\n",
    "\"I'll\": \"I will\",\n",
    "\"I'll've\": \"I will have\",\n",
    "\"I'm\": \"I am\",\n",
    "\"I've\": \"I have\",\n",
    "\"i'd\": \"i would\",\n",
    "\"i'd've\": \"i would have\",\n",
    "\"i'll\": \"i will\",\n",
    "\"i'll've\": \"i will have\",\n",
    "\"i'm\": \"i am\",\n",
    "\"i've\": \"i have\",\n",
    "\"isn't\": \"is not\",\n",
    "\"it'd\": \"it would\",\n",
    "\"it'd've\": \"it would have\",\n",
    "\"it'll\": \"it will\",\n",
    "\"it'll've\": \"it will have\",\n",
    "\"it's\": \"it is\",\n",
    "\"let's\": \"let us\",\n",
    "\"ma'am\": \"madam\",\n",
    "\"mayn't\": \"may not\",\n",
    "\"might've\": \"might have\",\n",
    "\"mightn't\": \"might not\",\n",
    "\"mightn't've\": \"might not have\",\n",
    "\"must've\": \"must have\",\n",
    "\"mustn't\": \"must not\",\n",
    "\"mustn't've\": \"must not have\",\n",
    "\"needn't\": \"need not\",\n",
    "\"needn't've\": \"need not have\",\n",
    "\"o'clock\": \"of the clock\",\n",
    "\"oughtn't\": \"ought not\",\n",
    "\"oughtn't've\": \"ought not have\",\n",
    "\"shan't\": \"shall not\",\n",
    "\"sha'n't\": \"shall not\",\n",
    "\"shan't've\": \"shall not have\",\n",
    "\"she'd\": \"she would\",\n",
    "\"she'd've\": \"she would have\",\n",
    "\"she'll\": \"she will\",\n",
    "\"she'll've\": \"she will have\",\n",
    "\"she's\": \"she is\",\n",
    "\"should've\": \"should have\",\n",
    "\"shouldn't\": \"should not\",\n",
    "\"shouldn't've\": \"should not have\",\n",
    "\"so've\": \"so have\",\n",
    "\"so's\": \"so as\",\n",
    "\"that'd\": \"that would\",\n",
    "\"that'd've\": \"that would have\",\n",
    "\"that's\": \"that is\",\n",
    "\"there'd\": \"there would\",\n",
    "\"there'd've\": \"there would have\",\n",
    "\"there's\": \"there is\",\n",
    "\"they'd\": \"they would\",\n",
    "\"they'd've\": \"they would have\",\n",
    "\"they'll\": \"they will\",\n",
    "\"they'll've\": \"they will have\",\n",
    "\"they're\": \"they are\",\n",
    "\"they've\": \"they have\",\n",
    "\"to've\": \"to have\",\n",
    "\"wasn't\": \"was not\",\n",
    "\"we'd\": \"we would\",\n",
    "\"we'd've\": \"we would have\",\n",
    "\"we'll\": \"we will\",\n",
    "\"we'll've\": \"we will have\",\n",
    "\"we're\": \"we are\",\n",
    "\"we've\": \"we have\",\n",
    "\"weren't\": \"were not\",\n",
    "\"what'll\": \"what will\",\n",
    "\"what'll've\": \"what will have\",\n",
    "\"what're\": \"what are\",\n",
    "\"what's\": \"what is\",\n",
    "\"what've\": \"what have\",\n",
    "\"when's\": \"when is\",\n",
    "\"when've\": \"when have\",\n",
    "\"where'd\": \"where did\",\n",
    "\"where's\": \"where is\",\n",
    "\"where've\": \"where have\",\n",
    "\"who'll\": \"who will\",\n",
    "\"who'll've\": \"who will have\",\n",
    "\"who's\": \"who is\",\n",
    "\"who've\": \"who have\",\n",
    "\"why's\": \"why is\",\n",
    "\"why've\": \"why have\",\n",
    "\"will've\": \"will have\",\n",
    "\"won't\": \"will not\",\n",
    "\"won't've\": \"will not have\",\n",
    "\"would've\": \"would have\",\n",
    "\"wouldn't\": \"would not\",\n",
    "\"wouldn't've\": \"would not have\",\n",
    "\"y'all\": \"you all\",\n",
    "\"y'all'd\": \"you all would\",\n",
    "\"y'all'd've\": \"you all would have\",\n",
    "\"y'all're\": \"you all are\",\n",
    "\"y'all've\": \"you all have\",\n",
    "\"you'd\": \"you would\",\n",
    "\"you'd've\": \"you would have\",\n",
    "\"you'll\": \"you will\",\n",
    "\"you'll've\": \"you will have\",\n",
    "\"you're\": \"you are\",\n",
    "\"you've\": \"you have\"\n",
    "}\n",
    "\n",
    "def remove_stopwords(text, tokenizer, is_lower_case=False):\n",
    "    tokens = tokenizer.tokenize(text)\n",
    "    tokens = [token.strip() for token in tokens]\n",
    "    if is_lower_case:\n",
    "        filtered_tokens = [token for token in tokens if token not in STOP_WORDS]\n",
    "    else:\n",
    "        filtered_tokens = [token for token in tokens if token.lower() not in STOP_WORDS]\n",
    "    filtered_text = ' '.join(filtered_tokens)    \n",
    "    return filtered_text\n",
    "\n",
    "def lemmatize_text(text):\n",
    "    text = nlp(text)\n",
    "    text = ' '.join([word.lemma_ if word.lemma_ != '-PRON-' else word.text for word in text])\n",
    "    return text\n",
    "\n",
    "def remove_special_characters(text, remove_digits=False):\n",
    "    pattern = r'[^a-zA-z0-9\\s]' if not remove_digits else r'[^a-zA-z\\s]'\n",
    "    text = re.sub(pattern, '', text)\n",
    "    return text\n",
    "\n",
    "def expand_contractions(text, contraction_mapping=CONTRACTION_MAP):\n",
    "    \n",
    "    contractions_pattern = re.compile('({})'.format('|'.join(contraction_mapping.keys())), \n",
    "                                      flags=re.IGNORECASE|re.DOTALL)\n",
    "    def expand_match(contraction):\n",
    "        match = contraction.group(0)\n",
    "        first_char = match[0]\n",
    "        expanded_contraction = contraction_mapping.get(match)\\\n",
    "                                if contraction_mapping.get(match)\\\n",
    "                                else contraction_mapping.get(match.lower())                       \n",
    "        expanded_contraction = first_char+expanded_contraction[1:]\n",
    "        return expanded_contraction\n",
    "        \n",
    "    expanded_text = contractions_pattern.sub(expand_match, text)\n",
    "    expanded_text = re.sub(\"'\", \"\", expanded_text)\n",
    "    return expanded_text\n",
    "\n",
    "def remove_accented_chars(text):\n",
    "    text = unicodedata.normalize('NFKD', text).encode('ascii', 'ignore').decode('utf-8', 'ignore')\n",
    "    return text\n",
    "\n",
    "def remove_url_tokens(text):\n",
    "    text = re.sub(pattern=get_twitter_reserved_words_pattern(), repl='', string=text)\n",
    "    text = re.sub(pattern=get_url_patern(), repl=\"\", string=text)\n",
    "    text = re.sub(r'http\\S+', \"\", text)  # remove http links\n",
    "    text = re.sub(r'bit.ly/\\S+', \"\", text)  # remove bitly links\n",
    "    text = text.strip('[link]')  # remove [links]\n",
    "    return text\n",
    "\n",
    "def remove_short_tokens(text, remove_len=2):\n",
    "    return ' '.join([w for w in text.split(\" \") if (len(w) > remove_len) or (w in stop_words.STOP_WORDS)])\n",
    "\n",
    "def normalize_sentence(doc, tokenizer=ToktokTokenizer(), remove_urls=True, remove_short_words=True, contraction_expansion=True, remove_mentions=True,\n",
    "                     accented_char_removal=True, text_lower_case=True, \n",
    "                     text_lemmatization=True, special_char_removal=True, \n",
    "                     stopword_removal=True, remove_digits=True):\n",
    "    # normalize each document in the corpus\n",
    "    if remove_urls:\n",
    "        doc = remove_url_tokens(doc)\n",
    "    if remove_mentions:\n",
    "        doc = re.sub(pattern=get_mentions_pattern(), repl=\"\", string=doc)\n",
    "        doc = re.sub('(RT\\s@[A-Za-z]+[A-Za-z0-9-*]+)', \"\", doc)  # remove retweet\n",
    "        doc = re.sub('(@[A-Za-z]+[A-Za-z0-9-_]+)', \"\", doc)  # remove tweeted at\n",
    "        doc = re.sub(pattern=get_twitter_reserved_words_pattern(), repl='', string=doc)\n",
    "        doc = doc.replace(\"&amp\", \"\")\n",
    "        doc = doc.replace(\"'s\", \"\")\n",
    "    # remove accented characters\n",
    "    if accented_char_removal:\n",
    "        doc = remove_accented_chars(doc)\n",
    "    # expand contractions    \n",
    "    if contraction_expansion:\n",
    "        doc = expand_contractions(doc)\n",
    "    # lowercase the text    \n",
    "    if text_lower_case:\n",
    "        doc = doc.lower()\n",
    "    # remove extra newlines\n",
    "    doc = re.sub(r'[\\r|\\n|\\r\\n]+', ' ',doc)\n",
    "    # lemmatize text\n",
    "    if text_lemmatization:\n",
    "        doc = lemmatize_text(doc)\n",
    "    # remove special characters and\\or digits    \n",
    "    if special_char_removal:\n",
    "        # insert spaces between special characters to isolate them    \n",
    "        special_char_pattern = re.compile(r'([{.(-)!}])')\n",
    "        doc = special_char_pattern.sub(\" \\\\1 \", doc)\n",
    "        doc = remove_special_characters(doc, remove_digits=remove_digits)  \n",
    "    # remove extra whitespace\n",
    "    doc = re.sub(' +', ' ', doc)\n",
    "    # remove stopwords\n",
    "    if stopword_removal:\n",
    "        doc = remove_stopwords(doc, tokenizer, is_lower_case=text_lower_case)  \n",
    "    if remove_short_words:\n",
    "        doc = remove_short_tokens(doc)\n",
    "    return doc"
   ]
  },
  {
   "cell_type": "code",
   "execution_count": 30,
   "id": "02cbde6c-e915-44d9-9e77-d9fdcdcc9561",
   "metadata": {},
   "outputs": [
    {
     "data": {
      "application/vnd.jupyter.widget-view+json": {
       "model_id": "4e0af78ca61d4c548638702f4ed531ad",
       "version_major": 2,
       "version_minor": 0
      },
      "text/plain": [
       "  0%|          | 0/275741 [00:00<?, ?it/s]"
      ]
     },
     "metadata": {},
     "output_type": "display_data"
    }
   ],
   "source": [
    "posts_all_df[\"imgs_clean_texts_chatgpt_cleaned\"] = posts_all_df[\"imgs_clean_texts_chatgpt\"].progress_apply(lambda x: normalize_sentence(x, tokenizer=ToktokTokenizer(),\n",
    "                                                                                                                                        remove_urls=True,\n",
    "                                                                                                                                        remove_short_words=True,\n",
    "                                                                                                                                        contraction_expansion=True,\n",
    "                                                                                                                                        remove_mentions=True,\n",
    "                                                                                                                                        accented_char_removal=True,\n",
    "                                                                                                                                        text_lower_case=True,\n",
    "                                                                                                                                        text_lemmatization=True,\n",
    "                                                                                                                                        special_char_removal=True,\n",
    "                                                                                                                                        stopword_removal=True,\n",
    "                                                                                                                                        remove_digits=True)\n",
    "                                                                                                           if not pd.isnull(x) else x)"
   ]
  },
  {
   "cell_type": "code",
   "execution_count": null,
   "id": "169dae1d-88d9-4402-9f35-8e1316fbdb3f",
   "metadata": {},
   "outputs": [],
   "source": [
    "non_null_cleand_gpt_texts = posts_all_df[~posts_all_df[\"imgs_clean_texts_chatgpt_cleaned\"].isnull()]"
   ]
  },
  {
   "cell_type": "code",
   "execution_count": 32,
   "id": "5f77984d-9e2d-4a5e-945c-93cd774e6cde",
   "metadata": {},
   "outputs": [
    {
     "data": {
      "text/plain": [
       "(42, 26)"
      ]
     },
     "execution_count": 32,
     "metadata": {},
     "output_type": "execute_result"
    }
   ],
   "source": [
    "non_null_cleand_gpt_texts.shape"
   ]
  },
  {
   "cell_type": "code",
   "execution_count": 33,
   "id": "83605ed0-f9a5-4322-b2b4-0d7585bd52ea",
   "metadata": {},
   "outputs": [],
   "source": [
    "save_file_path = tweets_file_name + \"_img_texts\" + \".csv\"\n",
    "posts_all_df.to_csv(save_file_path, index=False)"
   ]
  },
  {
   "cell_type": "markdown",
   "id": "1ddbe49f-ef3b-4979-a531-7313c11901ac",
   "metadata": {},
   "source": [
    "# Print Statistics"
   ]
  },
  {
   "cell_type": "code",
   "execution_count": 34,
   "id": "e8e5f00b-872d-4f43-8092-f9e8b0cc4b32",
   "metadata": {},
   "outputs": [
    {
     "name": "stderr",
     "output_type": "stream",
     "text": [
      "C:\\Users\\user\\AppData\\Local\\Temp\\ipykernel_4072\\2773938611.py:2: DtypeWarning: Columns (24,25) have mixed types. Specify dtype option on import or set low_memory=False.\n",
      "  posts = pd.read_csv(file_path)\n"
     ]
    }
   ],
   "source": [
    "file_path = tweets_file_name + \"_img_texts\" + \".csv\"\n",
    "posts = pd.read_csv(file_path)"
   ]
  },
  {
   "cell_type": "code",
   "execution_count": 35,
   "id": "20b07e70-d81b-422e-9719-cd1934f0e1bc",
   "metadata": {},
   "outputs": [],
   "source": [
    "import numpy as np\n",
    "\n",
    "def convert_to_nan(x):\n",
    "    x = [ix for ix in x if len(ix)> 0]\n",
    "    if len(x) == 0:\n",
    "        return None\n",
    "    if \"ERROR\" in x and len(x) == 1:\n",
    "        return None\n",
    "    if \"\" in x and len(x) == 1:\n",
    "        return None\n",
    "    return x\n",
    "posts[\"imgs_texts\"] = posts[\"imgs_texts\"].apply(lambda x: convert_to_nan(ast.literal_eval(x)))\n",
    "posts[\"imgs_clean_texts\"] = posts[\"imgs_clean_texts\"].apply(lambda x: convert_to_nan(ast.literal_eval(x)))\n",
    "posts[\"imgs_text_source\"] = posts[\"imgs_text_source\"].apply(lambda x: convert_to_nan(ast.literal_eval(x)))"
   ]
  },
  {
   "cell_type": "code",
   "execution_count": null,
   "id": "73cdb979-f7e8-4043-a415-216b89b959a5",
   "metadata": {},
   "outputs": [],
   "source": [
    "posts[~posts[\"imgs_clean_texts_chatgpt_cleaned\"].isnull()].head()"
   ]
  },
  {
   "cell_type": "code",
   "execution_count": 36,
   "id": "4dbd07a9-a33a-4a68-88d0-9a91f2e3500c",
   "metadata": {},
   "outputs": [
    {
     "name": "stdout",
     "output_type": "stream",
     "text": [
      "Total number of tweets:  275741\n",
      "Tweets with extracted tiny URLs: 275741 (100.0%)\n",
      "Tweets with scrapped URLs: 275741 (100.0%)\n",
      "Tweets with extracted URLs texts: 3678 (1.33%)\n",
      "=============================\n",
      "Extracted images with ChatGPT promts: 42 (0.02%)\n",
      "After cleaning the ChatGPT content: 42 (0.02%)\n",
      "=============================\n",
      "Extracted images with other unknown content: 30305 (10.99%)\n",
      "After cleaning the other uknown content: 3657 (1.33%)\n"
     ]
    }
   ],
   "source": [
    "total_posts = posts.shape[0]\n",
    "print(\"Total number of tweets: \", total_posts)\n",
    "\n",
    "urls = posts[posts[\"urls\"].map(len) > 0]\n",
    "print(\"Tweets with extracted tiny URLs: {} ({}%)\".format(urls.shape[0], round(100 * urls.shape[0] / total_posts, 2)))\n",
    "imgs_urls = posts[posts[\"imgs_urls\"].map(len) > 0]\n",
    "print(\"Tweets with scrapped URLs: {} ({}%)\".format(imgs_urls.shape[0], round(100 * imgs_urls.shape[0] / total_posts, 2)))\n",
    "imgs_clean_texts = posts[~posts[\"imgs_clean_texts\"].isnull()]\n",
    "print(\"Tweets with extracted URLs texts: {} ({}%)\".format(imgs_clean_texts.shape[0], round(100 * imgs_clean_texts.shape[0] / total_posts, 2)))\n",
    "\n",
    "print(\"=============================\")\n",
    "\n",
    "# ChatGPT related images\n",
    "is_chatPGT_propmpt_in_tweet = posts[\"imgs_text_source\"].apply(lambda x: \"ChatGPT\" in x if x is not None else False)\n",
    "chatPGT_content_df = posts[is_chatPGT_propmpt_in_tweet]\n",
    "chatgpt_prompts_imgs_df_count = is_chatPGT_propmpt_in_tweet.sum()\n",
    "chatPGT_content = chatPGT_content_df[~chatPGT_content_df[\"imgs_clean_texts\"].isnull()]\n",
    "print(\"Extracted images with ChatGPT promts: {} ({}%)\".format(chatgpt_prompts_imgs_df_count, round(100 * chatgpt_prompts_imgs_df_count / total_posts, 2)))\n",
    "print(\"After cleaning the ChatGPT content: {} ({}%)\".format(chatPGT_content.shape[0], round(100 * chatPGT_content.shape[0] / total_posts, 2)))\n",
    "\n",
    "print(\"=============================\")\n",
    "\n",
    "# Unknown content images\n",
    "is_other_content_in_tweet = posts[\"imgs_text_source\"].apply(lambda x: \"Other\" in x if x is not None else False)\n",
    "non_empty_other_content_df = posts[is_other_content_in_tweet]\n",
    "other_unknown_imgs_df_count = is_other_content_in_tweet.sum()\n",
    "non_empty_other_content = non_empty_other_content_df[~non_empty_other_content_df[\"imgs_clean_texts\"].isnull()]\n",
    "print(\"Extracted images with other unknown content: {} ({}%)\".format(other_unknown_imgs_df_count, round(100 * other_unknown_imgs_df_count / total_posts, 2)))\n",
    "print(\"After cleaning the other uknown content: {} ({}%)\".format(non_empty_other_content.shape[0], round(100 * non_empty_other_content.shape[0] / total_posts, 2)))"
   ]
  },
  {
   "cell_type": "markdown",
   "id": "8696a98b-7754-472e-80ef-913c2301903a",
   "metadata": {},
   "source": [
    "## Word frequency statistics"
   ]
  },
  {
   "cell_type": "code",
   "execution_count": 19,
   "id": "3a7c42db-3e68-402c-8bf2-cb9be6eb3fde",
   "metadata": {},
   "outputs": [],
   "source": [
    "from sklearn.feature_extraction.text import CountVectorizer\n",
    "from spacy.lang.en import stop_words\n",
    "\n",
    "extended_stop_wrods = list(stop_words.STOP_WORDS)\n",
    "extended_stop_wrods.append(\"doesnt\")\n",
    "extended_stop_wrods.append(\"dont\")\n",
    "extended_stop_wrods.append(\"not\")\n",
    "STOP_WORDS = list(set(extended_stop_wrods))"
   ]
  },
  {
   "cell_type": "code",
   "execution_count": 20,
   "id": "6b12a064-1b90-4b85-b4a9-97fb92589070",
   "metadata": {},
   "outputs": [],
   "source": [
    "non_empty_content = posts[is_other_content_in_tweet]\n",
    "non_empty_content = non_empty_content[~non_empty_content[\"imgs_clean_texts\"].isnull()]\n",
    "non_empty_content[\"imgs_clean_texts\"] = non_empty_content[\"imgs_clean_texts\"].apply(lambda x: \" \".join(x))"
   ]
  },
  {
   "cell_type": "code",
   "execution_count": 21,
   "id": "4fe83c42-3a76-43e2-8835-396d80b8fa2d",
   "metadata": {},
   "outputs": [],
   "source": [
    "from string import digits\n",
    "# remove numbers from clean text\n",
    "non_empty_content[\"imgs_clean_texts\"] = non_empty_content[\"imgs_clean_texts\"].apply(lambda x: x.translate(str.maketrans('', '', digits)))"
   ]
  },
  {
   "cell_type": "code",
   "execution_count": 22,
   "id": "97f8129b-0492-4863-b808-32a4007a1917",
   "metadata": {},
   "outputs": [
    {
     "name": "stderr",
     "output_type": "stream",
     "text": [
      "C:\\Users\\user\\.conda\\envs\\chatgpt\\lib\\site-packages\\sklearn\\feature_extraction\\text.py:409: UserWarning: Your stop_words may be inconsistent with your preprocessing. Tokenizing the stop words generated tokens ['ll', 've'] not in stop_words.\n",
      "  warnings.warn(\n"
     ]
    }
   ],
   "source": [
    "count_model = CountVectorizer(stop_words=STOP_WORDS)\n",
    "count_vector = count_model.fit_transform(non_empty_content[\"imgs_clean_texts\"])\n",
    "count_array = count_vector.toarray()\n",
    "\n",
    "words_set = count_model.get_feature_names_out()\n",
    "\n",
    "chatgpt_prompts_df_counts = pd.DataFrame(count_array, columns=words_set)\n",
    "chatgpt_prompts_df_counts.loc['Total']= chatgpt_prompts_df_counts.sum(numeric_only=True, axis=0)"
   ]
  },
  {
   "cell_type": "code",
   "execution_count": 26,
   "id": "2719eee1-0ef6-4323-b6dd-09bc39bf1d75",
   "metadata": {},
   "outputs": [
    {
     "data": {
      "text/html": [
       "<div>\n",
       "<style scoped>\n",
       "    .dataframe tbody tr th:only-of-type {\n",
       "        vertical-align: middle;\n",
       "    }\n",
       "\n",
       "    .dataframe tbody tr th {\n",
       "        vertical-align: top;\n",
       "    }\n",
       "\n",
       "    .dataframe thead th {\n",
       "        text-align: right;\n",
       "    }\n",
       "</style>\n",
       "<table border=\"1\" class=\"dataframe\">\n",
       "  <thead>\n",
       "    <tr style=\"text-align: right;\">\n",
       "      <th></th>\n",
       "      <th>index</th>\n",
       "      <th>Total</th>\n",
       "    </tr>\n",
       "  </thead>\n",
       "  <tbody>\n",
       "    <tr>\n",
       "      <th>53</th>\n",
       "      <td>pee</td>\n",
       "      <td>12</td>\n",
       "    </tr>\n",
       "    <tr>\n",
       "      <th>68</th>\n",
       "      <td>secret</td>\n",
       "      <td>10</td>\n",
       "    </tr>\n",
       "    <tr>\n",
       "      <th>13</th>\n",
       "      <td>chat</td>\n",
       "      <td>5</td>\n",
       "    </tr>\n",
       "    <tr>\n",
       "      <th>51</th>\n",
       "      <td>patient</td>\n",
       "      <td>4</td>\n",
       "    </tr>\n",
       "    <tr>\n",
       "      <th>20</th>\n",
       "      <td>date</td>\n",
       "      <td>4</td>\n",
       "    </tr>\n",
       "    <tr>\n",
       "      <th>...</th>\n",
       "      <td>...</td>\n",
       "      <td>...</td>\n",
       "    </tr>\n",
       "    <tr>\n",
       "      <th>34</th>\n",
       "      <td>indicating</td>\n",
       "      <td>1</td>\n",
       "    </tr>\n",
       "    <tr>\n",
       "      <th>32</th>\n",
       "      <td>good</td>\n",
       "      <td>1</td>\n",
       "    </tr>\n",
       "    <tr>\n",
       "      <th>31</th>\n",
       "      <td>giving</td>\n",
       "      <td>1</td>\n",
       "    </tr>\n",
       "    <tr>\n",
       "      <th>30</th>\n",
       "      <td>free</td>\n",
       "      <td>1</td>\n",
       "    </tr>\n",
       "    <tr>\n",
       "      <th>88</th>\n",
       "      <td>way</td>\n",
       "      <td>1</td>\n",
       "    </tr>\n",
       "  </tbody>\n",
       "</table>\n",
       "<p>89 rows × 2 columns</p>\n",
       "</div>"
      ],
      "text/plain": [
       "         index  Total\n",
       "53         pee     12\n",
       "68      secret     10\n",
       "13        chat      5\n",
       "51     patient      4\n",
       "20        date      4\n",
       "..         ...    ...\n",
       "34  indicating      1\n",
       "32        good      1\n",
       "31      giving      1\n",
       "30        free      1\n",
       "88         way      1\n",
       "\n",
       "[89 rows x 2 columns]"
      ]
     },
     "execution_count": 26,
     "metadata": {},
     "output_type": "execute_result"
    }
   ],
   "source": [
    "chatgpt_prompts_df_counts.loc[\"Total\", :].T.reset_index().sort_values(\"Total\", ascending=False)"
   ]
  },
  {
   "cell_type": "code",
   "execution_count": null,
   "id": "37c69a1e-1f8e-4f02-873a-57c2a4be61c8",
   "metadata": {},
   "outputs": [],
   "source": []
  }
 ],
 "metadata": {
  "kernelspec": {
   "display_name": "Python 3 (ipykernel)",
   "language": "python",
   "name": "python3"
  },
  "language_info": {
   "codemirror_mode": {
    "name": "ipython",
    "version": 3
   },
   "file_extension": ".py",
   "mimetype": "text/x-python",
   "name": "python",
   "nbconvert_exporter": "python",
   "pygments_lexer": "ipython3",
   "version": "3.8.16"
  }
 },
 "nbformat": 4,
 "nbformat_minor": 5
}
