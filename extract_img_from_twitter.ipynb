{
 "cells": [
  {
   "cell_type": "code",
   "execution_count": 25,
   "id": "c69f531a-9315-4bcb-93a5-a6d51aea5574",
   "metadata": {},
   "outputs": [],
   "source": [
    "import pandas as pd\n",
    "import os\n",
    "import copy\n",
    "import re\n",
    "import ast\n",
    "\n",
    "from tqdm.notebook import tqdm\n",
    "tqdm.pandas()\n",
    "\n",
    "import urllib.request\n",
    "from urllib.parse import urlparse\n",
    "from bs4 import BeautifulSoup\n",
    "import requests\n",
    "import random\n",
    "import itertools\n",
    "import nltk\n",
    "# nltk.download('wordnet')\n",
    "\n",
    "import string\n",
    "import enchant\n",
    "import swifter"
   ]
  },
  {
   "cell_type": "code",
   "execution_count": 26,
   "id": "add93248-0a86-4dcf-b0c3-324da7f09b08",
   "metadata": {},
   "outputs": [],
   "source": [
    "DATE = '07052023'\n",
    "tweets_file_name = 'all_tweets_from_last_7_days_{}_with_sentiment_emotion.csv'.format(DATE)"
   ]
  },
  {
   "cell_type": "markdown",
   "id": "f7e18029-7e98-40c4-9c09-e55c0099319b",
   "metadata": {},
   "source": [
    "# Read data"
   ]
  },
  {
   "cell_type": "code",
   "execution_count": 27,
   "id": "a9f02034-49e7-45a2-9106-4ce6d005e968",
   "metadata": {},
   "outputs": [],
   "source": [
    "# Read the data\n",
    "posts = pd.read_csv(tweets_file_name, nrows=None)"
   ]
  },
  {
   "cell_type": "code",
   "execution_count": 28,
   "id": "9b350753-e49f-4c75-a6b1-14d4f60ce07e",
   "metadata": {},
   "outputs": [],
   "source": [
    "if 'tokens' in posts.columns:\n",
    "    tokens_list = [ast.literal_eval(pp) for pp in posts['tokens'].values.tolist()]\n",
    "    posts[\"tokens\"] = tokens_list"
   ]
  },
  {
   "cell_type": "code",
   "execution_count": 29,
   "id": "be643666-42f0-427e-9fb3-2dc827e5ac03",
   "metadata": {},
   "outputs": [],
   "source": [
    "posts[\"id\"] = posts[\"id\"].astype(str)\n",
    "posts[\"author_id\"] = posts[\"author_id\"].astype(str)"
   ]
  },
  {
   "cell_type": "markdown",
   "id": "c05fd7ea-a89f-483d-a8e0-ff91fba01156",
   "metadata": {},
   "source": [
    "# Extract URLs from text"
   ]
  },
  {
   "cell_type": "code",
   "execution_count": 30,
   "id": "c6704719-e767-4eff-ba89-3f496c725247",
   "metadata": {},
   "outputs": [],
   "source": [
    "URL_REGEX = r'(https?://\\S+)'"
   ]
  },
  {
   "cell_type": "code",
   "execution_count": 31,
   "id": "ef9aea9b-55cd-4242-b62c-bb9398fdaed6",
   "metadata": {},
   "outputs": [],
   "source": [
    "def extract_url_from_text(text):\n",
    "    urls = re.findall(URL_REGEX, text)\n",
    "    return urls"
   ]
  },
  {
   "cell_type": "code",
   "execution_count": 32,
   "id": "df31f4e7-983a-4783-aefa-5073d76de52b",
   "metadata": {},
   "outputs": [
    {
     "data": {
      "text/plain": [
       "['https://t.co/IAIl5xbttn', 'https://t.co/HW5RVw5sac])']"
      ]
     },
     "execution_count": 32,
     "metadata": {},
     "output_type": "execute_result"
    }
   ],
   "source": [
    "# Example\n",
    "text = \"\"\"https://t.co/IAIl5xbttn What does ChatGPT return about human values? Exploring value bias in ChatGPT using a descriptive value theory. (arXiv:2304.03612v1 [https://t.co/HW5RVw5sac]) #NLProc\"\"\"\n",
    "\n",
    "extract_url_from_text(text)"
   ]
  },
  {
   "cell_type": "code",
   "execution_count": 33,
   "id": "f4010a62-c988-46e9-aa0e-1f67d3e42781",
   "metadata": {},
   "outputs": [
    {
     "data": {
      "application/vnd.jupyter.widget-view+json": {
       "model_id": "7d26c618f7164cf9b101a01775e2f399",
       "version_major": 2,
       "version_minor": 0
      },
      "text/plain": [
       "  0%|          | 0/295741 [00:00<?, ?it/s]"
      ]
     },
     "metadata": {},
     "output_type": "display_data"
    }
   ],
   "source": [
    "posts[\"urls\"] = posts[\"post\"].progress_apply(lambda x: extract_url_from_text(x))"
   ]
  },
  {
   "cell_type": "code",
   "execution_count": 34,
   "id": "bad8b57b-d05e-41a0-901b-ba5dc9aa6cee",
   "metadata": {},
   "outputs": [
    {
     "name": "stdout",
     "output_type": "stream",
     "text": [
      "Non-empty extractec tiny URLs:  197275\n"
     ]
    }
   ],
   "source": [
    "print(\"Non-empty extractec tiny URLs: \", posts[posts[\"urls\"].map(len) > 0].shape[0])"
   ]
  },
  {
   "cell_type": "markdown",
   "id": "69829858-faa0-4bf9-980a-b40ec0b4cfd6",
   "metadata": {},
   "source": [
    "# Extract images from URL HTML "
   ]
  },
  {
   "cell_type": "code",
   "execution_count": 35,
   "id": "06e3902f-2259-456f-b6e6-69ff93605575",
   "metadata": {},
   "outputs": [],
   "source": [
    "import time \n",
    " \n",
    "import pandas as pd \n",
    "from selenium import webdriver \n",
    "from selenium.webdriver import Chrome \n",
    "from selenium.webdriver.chrome.service import Service \n",
    "from selenium.webdriver.common.by import By \n",
    "from webdriver_manager.chrome import ChromeDriverManager"
   ]
  },
  {
   "cell_type": "code",
   "execution_count": 36,
   "id": "ff3f99de-0ee4-4b61-b839-7585bae85bf2",
   "metadata": {},
   "outputs": [
    {
     "name": "stderr",
     "output_type": "stream",
     "text": [
      "C:\\Users\\user\\AppData\\Local\\Temp\\ipykernel_23156\\210964506.py:3: DeprecationWarning: headless property is deprecated, instead use add_argument('--headless') or add_argument('--headless=new')\n",
      "  options.headless = True # it's more scalable to work in headless mode\n"
     ]
    }
   ],
   "source": [
    "# start by defining the options \n",
    "options = webdriver.ChromeOptions() \n",
    "options.headless = True # it's more scalable to work in headless mode \n",
    "# normally, selenium waits for all resources to download \n",
    "# we don't need it as the page also populated with the running javascript code. \n",
    "options.page_load_strategy = 'none' \n",
    "# this returns the path web driver downloaded \n",
    "chrome_path = ChromeDriverManager().install() \n",
    "chrome_service = Service(chrome_path) \n",
    "# pass the defined options and service objects to initialize the web driver \n",
    "driver = Chrome(options=options, service=chrome_service) \n",
    "driver.implicitly_wait(5)"
   ]
  },
  {
   "cell_type": "code",
   "execution_count": 37,
   "id": "e7acd775-0ddb-4c67-86c1-1f2fadd4c355",
   "metadata": {},
   "outputs": [],
   "source": [
    "def extract_imgs_from_url(driver):\n",
    "    img_links = []\n",
    "    imgs = driver.find_elements(By.TAG_NAME, \"img\")\n",
    "    for img in imgs:\n",
    "        img_src = img.get_attribute(\"src\")\n",
    "        if '/media/' in img_src:\n",
    "            img_links.append(img_src)\n",
    "    return img_links"
   ]
  },
  {
   "cell_type": "code",
   "execution_count": 38,
   "id": "47c35284-2603-4c1d-84aa-0aae2a5c8f30",
   "metadata": {},
   "outputs": [],
   "source": [
    "def scrape_from_url(url):\n",
    "    time.sleep(random.uniform(0.5,1.1))\n",
    "    try:\n",
    "        driver.get(url)\n",
    "        img_links = extract_imgs_from_url(driver)\n",
    "        return img_links\n",
    "    except Exception as e:\n",
    "        #return [\"ERROR :{}\".format(e)]\n",
    "        return []\n",
    "    \n",
    "def scrape_from_urls(urls):\n",
    "    all_links = []\n",
    "    if not urls:\n",
    "        return all_links\n",
    "    for url in urls:\n",
    "        img_links = scrape_from_url(url)\n",
    "        all_links.append(img_links)\n",
    "    img_links_merged = list(itertools.chain.from_iterable(all_links))\n",
    "    return img_links_merged"
   ]
  },
  {
   "cell_type": "code",
   "execution_count": 39,
   "id": "efa44e9a-cec1-40d3-b16c-45c65a760bf6",
   "metadata": {},
   "outputs": [],
   "source": [
    "# Examples\n",
    "url = \"https://twitter.com/georgtanner/status/1647549133652361220/photo/1\"\n",
    "url = \"https://twitter.com/JustIdeals/status/1634078983640981504\"\n",
    "imgs = scrape_from_url(url)"
   ]
  },
  {
   "cell_type": "code",
   "execution_count": null,
   "id": "78b00a32-1533-49b2-99fa-eef1c2d34f61",
   "metadata": {},
   "outputs": [
    {
     "data": {
      "application/vnd.jupyter.widget-view+json": {
       "model_id": "67510dbac2e5414b9f95dedb53325dd9",
       "version_major": 2,
       "version_minor": 0
      },
      "text/plain": [
       "  0%|          | 0/295741 [00:00<?, ?it/s]"
      ]
     },
     "metadata": {},
     "output_type": "display_data"
    }
   ],
   "source": [
    "posts[\"imgs_urls\"] = posts[\"urls\"].progress_apply(lambda x: scrape_from_urls(x))"
   ]
  },
  {
   "cell_type": "code",
   "execution_count": null,
   "id": "239e2f68-0960-441d-a16f-cb6801e34c50",
   "metadata": {},
   "outputs": [],
   "source": [
    "print(\"Non-empty image URLs: \", posts[posts[\"imgs_urls\"].map(len) > 0].shape[0])"
   ]
  },
  {
   "cell_type": "markdown",
   "id": "80f12b1f-a98f-4260-8498-4342a59bce81",
   "metadata": {},
   "source": [
    "# Image to Text using pytesseract"
   ]
  },
  {
   "cell_type": "code",
   "execution_count": 92,
   "id": "23b41f61-5f9e-4880-b329-916cf08e4b79",
   "metadata": {},
   "outputs": [],
   "source": [
    "import pytesseract\n",
    "from PIL import Image\n",
    "import io\n",
    "pytesseract.pytesseract.tesseract_cmd = r'C:\\Program Files\\Tesseract-OCR\\tesseract.exe'"
   ]
  },
  {
   "cell_type": "code",
   "execution_count": 93,
   "id": "b6d800e3-7380-4cde-92b7-d7e3ac9b6f68",
   "metadata": {},
   "outputs": [
    {
     "name": "stdout",
     "output_type": "stream",
     "text": [
      "['eng', 'osd']\n"
     ]
    }
   ],
   "source": [
    "print(pytesseract.get_languages(config='')) "
   ]
  },
  {
   "cell_type": "code",
   "execution_count": 94,
   "id": "f3acd2a2-b6ac-4a92-b135-a070715a1fe0",
   "metadata": {},
   "outputs": [],
   "source": [
    "def img_to_text(img_url, lang=\"eng\", timeout=10):\n",
    "    time.sleep(random.uniform(0.2, 0.5))\n",
    "    try:\n",
    "        response = requests.get(img_url)\n",
    "        img = Image.open(io.BytesIO(response.content))\n",
    "        text = pytesseract.image_to_string(img, lang=lang, timeout=timeout)\n",
    "        return text\n",
    "    except Exception as e:\n",
    "        # return \"ERROR :{}\".format(e)\n",
    "        return \"\"\n",
    "\n",
    "def imgs_to_texts(urls, lang=\"eng\", timeout=10):\n",
    "    all_texts = []\n",
    "    for url in urls:\n",
    "        text = img_to_text(url, lang=lang, timeout=timeout)\n",
    "        all_texts.append(text)\n",
    "    all_texts = list(set(all_texts))\n",
    "    return all_texts"
   ]
  },
  {
   "cell_type": "code",
   "execution_count": 95,
   "id": "cca3ed52-8441-42fa-be72-34ea46f0aba7",
   "metadata": {},
   "outputs": [],
   "source": [
    "eng_dict = enchant.Dict(\"en_US\")\n",
    "\n",
    "SENTENCES_TO_IGNORE = [\"Send a message...\"]\n",
    "CHATGPT_SCREENSHOT_PATTERN = r\"ChatGPT [A-z][a-z][a-z] [1-9][0-9] Version\"\n",
    "TIME_PATTERN_REGEX = \"\"\n",
    "def clean_img_text(img_text):\n",
    "    source = 'Other'\n",
    "    img_text = img_text.replace(r'\\n', ' ').replace(r'\\r', '').strip()\n",
    "    img_text = re.sub(r'http\\S+', '', img_text, flags=re.MULTILINE)\n",
    "    img_text = re.sub(r'(\\d+):(\\d+)', '', img_text)\n",
    "    \n",
    "    chatgpt_patterns = re.search(CHATGPT_SCREENSHOT_PATTERN, img_text, flags=re.MULTILINE)\n",
    "    if chatgpt_patterns:\n",
    "        source = \"ChatGPT\"\n",
    "        print(chatgpt_patterns[0])\n",
    "        img_text = img_text.split(chatgpt_patterns[0])[0]\n",
    "        \n",
    "    img_text = ' '.join(word for word in img_text.split() if len(word.strip().translate(str.maketrans('', '', string.punctuation))) > 0 and eng_dict.check(word.strip().translate(str.maketrans('', '', string.punctuation))))\n",
    "\n",
    "    for sent in SENTENCES_TO_IGNORE:\n",
    "        if sent in img_text:\n",
    "            img_text = img_text.replace(sent, '')\n",
    "    return img_text, source\n",
    "\n",
    "def clean_imgs_texts(img_texts):\n",
    "    all_texts = []\n",
    "    all_sources = []\n",
    "    for text in img_texts:\n",
    "        clean_text, source = clean_img_text(text)\n",
    "        all_texts.append(clean_text)\n",
    "        all_sources.append(source)\n",
    "    return all_texts, all_sources"
   ]
  },
  {
   "cell_type": "code",
   "execution_count": 96,
   "id": "d5bd7134-84c6-499a-bd71-ffcc512a8f03",
   "metadata": {},
   "outputs": [
    {
     "data": {
      "text/plain": [
       "['10:25 oll S 14)\\n\\n@ chat.openai.com G\\n\\nRisks with Al Algorithms. +\\n\\nIt is true that algorithms can sometimes\\nproduce correct results for the wrong\\nreasons. This can happen if the data used to\\ntrain the algorithm is biased or incomplete, or\\nif the algorithm is not designed to account for\\n\\nall relevant factors.\\n\\nFor example, an algorithm that predicts\\nwhether a loan applicant is likely to default\\nmay be trained on data that is biased against\\ncertain groups of people, such as minorities\\nor low-income individuals. Even if the\\nalgorithm produces accurate predictions\\nbased on this data, it may be discriminating\\nagainst these groups and perpetuating unfair\\n\\nlending practices.\\n\\nTo mitigate this risk, it is important to\\ncarefully design algorithms and ensure that\\n\\n. . v\\nthey are trained on representative and\\n\\n7 9\\n\\nChatGPT Feb 13 Version. Free Research Preview. Our goal is to make\\nAl systems more natural and safe to interact with. Your feedback will\\n\\nhelp us improve.\\n\\n4 aa)\\n\\n',\n",
       " '18:33 al! 4G @ )\\n\\n© https://chat.openai.com/?mod... <\\nia\\n\\n3B\\n\\nti How will | become a millionaire?\\nActionable advice in 5 short bullet points\\nthat for on a screenshot\\n\\nG\\n\\nFinancial plan: goals, budget.\\nConsistent, diversified investing.\\nMultiple income sources.\\n\\nSelf-education: finance, skills.\\n\\nOE)\\n\\nNetworking: relationships,\\n\\nopportunities.\\n\\nSend a message... SG\\n\\nChatGPT Mar 23 Version. ChatGPT may produce inaccurate\\ninformation about people, places, or facts.\\n\\n']"
      ]
     },
     "execution_count": 96,
     "metadata": {},
     "output_type": "execute_result"
    }
   ],
   "source": [
    "# Example\n",
    "img_url1 = \"https://pbs.twimg.com/media/Ft1FM8QaEAAXobl?format=jpg&name=medium\"\n",
    "img_url2 = \"https://pbs.twimg.com/media/Fq1qLHtaUAAf0hM?format=jpg&name=large\"\n",
    "img_to_text(img_url2, lang=\"eng\", timeout=10)\n",
    "ex_te = imgs_to_texts([img_url1, img_url2])\n",
    "ex_te"
   ]
  },
  {
   "cell_type": "code",
   "execution_count": 97,
   "id": "2feb5e54-4ad4-47cf-81f0-ef42fdb28795",
   "metadata": {},
   "outputs": [
    {
     "data": {
      "application/vnd.jupyter.widget-view+json": {
       "model_id": "16cb19bb2d2c483abea9eee204cabfc7",
       "version_major": 2,
       "version_minor": 0
      },
      "text/plain": [
       "  0%|          | 0/100 [00:00<?, ?it/s]"
      ]
     },
     "metadata": {},
     "output_type": "display_data"
    }
   ],
   "source": [
    "posts[\"imgs_texts\"] = posts[\"imgs_urls\"].progress_apply(lambda x: imgs_to_texts(x))"
   ]
  },
  {
   "cell_type": "code",
   "execution_count": 98,
   "id": "a2cf5e30-336d-4340-9a5c-c553951c78d6",
   "metadata": {},
   "outputs": [
    {
     "data": {
      "application/vnd.jupyter.widget-view+json": {
       "model_id": "7357885df84f422ea4b91157c034adf0",
       "version_major": 2,
       "version_minor": 0
      },
      "text/plain": [
       "  0%|          | 0/100 [00:00<?, ?it/s]"
      ]
     },
     "metadata": {},
     "output_type": "display_data"
    }
   ],
   "source": [
    "posts[\"imgs_clean_texts\"], posts[\"imgs_text_source\"] = zip(*posts[\"imgs_texts\"].progress_apply(lambda x: clean_imgs_texts(x)))"
   ]
  },
  {
   "cell_type": "code",
   "execution_count": 104,
   "id": "292ef076-d2bd-405a-ad78-757f25e7fef0",
   "metadata": {},
   "outputs": [
    {
     "name": "stdout",
     "output_type": "stream",
     "text": [
      "Non-empty image texts:  25\n"
     ]
    }
   ],
   "source": [
    "print(\"Non-empty image texts: \", posts[posts[\"imgs_clean_texts\"].map(len) > 0].shape[0])"
   ]
  },
  {
   "cell_type": "code",
   "execution_count": 113,
   "id": "842607bc-62cb-4d0f-9ad7-dbb6717ea009",
   "metadata": {},
   "outputs": [
    {
     "data": {
      "text/html": [
       "<div>\n",
       "<style scoped>\n",
       "    .dataframe tbody tr th:only-of-type {\n",
       "        vertical-align: middle;\n",
       "    }\n",
       "\n",
       "    .dataframe tbody tr th {\n",
       "        vertical-align: top;\n",
       "    }\n",
       "\n",
       "    .dataframe thead th {\n",
       "        text-align: right;\n",
       "    }\n",
       "</style>\n",
       "<table border=\"1\" class=\"dataframe\">\n",
       "  <thead>\n",
       "    <tr style=\"text-align: right;\">\n",
       "      <th></th>\n",
       "      <th>author_id</th>\n",
       "      <th>created_at</th>\n",
       "      <th>id</th>\n",
       "      <th>post</th>\n",
       "      <th>edit_history_tweet_ids</th>\n",
       "      <th>retweet_count</th>\n",
       "      <th>reply_count</th>\n",
       "      <th>like_count</th>\n",
       "      <th>quote_count</th>\n",
       "      <th>impression_count</th>\n",
       "      <th>...</th>\n",
       "      <th>clean_post_for_sentiment</th>\n",
       "      <th>sentiment_score</th>\n",
       "      <th>sentiment</th>\n",
       "      <th>emotion</th>\n",
       "      <th>emotion_score</th>\n",
       "      <th>urls</th>\n",
       "      <th>imgs_urls</th>\n",
       "      <th>imgs_texts</th>\n",
       "      <th>imgs_clean_texts</th>\n",
       "      <th>imgs_text_source</th>\n",
       "    </tr>\n",
       "  </thead>\n",
       "  <tbody>\n",
       "    <tr>\n",
       "      <th>0</th>\n",
       "      <td>227768169</td>\n",
       "      <td>2023-02-09T18:53:48.000Z</td>\n",
       "      <td>1623757070825660419</td>\n",
       "      <td>You can now text @TSA to ask them questions! P...</td>\n",
       "      <td>['1623757070825660419']</td>\n",
       "      <td>0</td>\n",
       "      <td>0</td>\n",
       "      <td>0</td>\n",
       "      <td>0</td>\n",
       "      <td>13</td>\n",
       "      <td>...</td>\n",
       "      <td>You can now text  to ask them questions Please...</td>\n",
       "      <td>0.939657</td>\n",
       "      <td>Neutral</td>\n",
       "      <td>neutral</td>\n",
       "      <td>0.916366</td>\n",
       "      <td>[https://t.co/BnEUnkynP7]</td>\n",
       "      <td>[https://pbs.twimg.com/media/FoizvygXoAEbo12?f...</td>\n",
       "      <td>[=\\n\\n=\\nASKTSA\\n\\nv er [~)\\n@AskTSA Text \"TRA...</td>\n",
       "      <td>[v er Text \"TRAVEL\" to (275872)]</td>\n",
       "      <td>[Other]</td>\n",
       "    </tr>\n",
       "    <tr>\n",
       "      <th>7</th>\n",
       "      <td>42633253</td>\n",
       "      <td>2023-02-09T18:05:21.000Z</td>\n",
       "      <td>1623744878030073857</td>\n",
       "      <td>Please join ACEC Georgia IT Forum Chairman, Ro...</td>\n",
       "      <td>['1623744878030073857']</td>\n",
       "      <td>0</td>\n",
       "      <td>0</td>\n",
       "      <td>0</td>\n",
       "      <td>0</td>\n",
       "      <td>17</td>\n",
       "      <td>...</td>\n",
       "      <td>Please join ACEC Georgia IT Forum Chairman Rob...</td>\n",
       "      <td>0.789183</td>\n",
       "      <td>Neutral</td>\n",
       "      <td>neutral</td>\n",
       "      <td>0.856153</td>\n",
       "      <td>[https://t.co/pAG3JsnDFo, https://t.co/CfyCHDG...</td>\n",
       "      <td>[https://pbs.twimg.com/media/FoizW7PWIAIsAX7?f...</td>\n",
       "      <td>[ACEC Georgia\\n\\nIT FORUM\\n\\nFebruary 22, 2023...</td>\n",
       "      <td>[Georgia IT FORUM February 22, 2023 PM PM EDT]</td>\n",
       "      <td>[Other]</td>\n",
       "    </tr>\n",
       "    <tr>\n",
       "      <th>11</th>\n",
       "      <td>3184112874</td>\n",
       "      <td>2023-02-09T17:49:10.000Z</td>\n",
       "      <td>1623740805650468864</td>\n",
       "      <td>Question:\\nCan #OpenAI #ChatGPT give me LEGAL ...</td>\n",
       "      <td>['1623740805650468864']</td>\n",
       "      <td>0</td>\n",
       "      <td>0</td>\n",
       "      <td>0</td>\n",
       "      <td>0</td>\n",
       "      <td>34</td>\n",
       "      <td>...</td>\n",
       "      <td>Question\\nCan hashtag open ai hashtag chat gpt...</td>\n",
       "      <td>0.618685</td>\n",
       "      <td>Neutral</td>\n",
       "      <td>fear</td>\n",
       "      <td>0.938373</td>\n",
       "      <td>[https://t.co/Ny2jsVbG1b]</td>\n",
       "      <td>[https://pbs.twimg.com/media/FwBvrdzacAAqsE4?f...</td>\n",
       "      <td>[]</td>\n",
       "      <td>[]</td>\n",
       "      <td>[Other]</td>\n",
       "    </tr>\n",
       "    <tr>\n",
       "      <th>12</th>\n",
       "      <td>931470139</td>\n",
       "      <td>2023-02-09T17:45:05.000Z</td>\n",
       "      <td>1623739777978626049</td>\n",
       "      <td>Unpopular opinion: Microsoft integrating ChatG...</td>\n",
       "      <td>['1623739777978626049']</td>\n",
       "      <td>8</td>\n",
       "      <td>26</td>\n",
       "      <td>92</td>\n",
       "      <td>3</td>\n",
       "      <td>8307</td>\n",
       "      <td>...</td>\n",
       "      <td>Unpopular opinion Microsoft integrating ChatGP...</td>\n",
       "      <td>0.928594</td>\n",
       "      <td>Negative</td>\n",
       "      <td>neutral</td>\n",
       "      <td>0.470574</td>\n",
       "      <td>[https://t.co/SVnVwg1ys8]</td>\n",
       "      <td>[https://pbs.twimg.com/media/FoiuWUBWIAEfTS4?f...</td>\n",
       "      <td>[EARTHWEB\\n\\nSEARCH ENGINE MARKET SHARE\\n\\nGoo...</td>\n",
       "      <td>[SEARCH ENGINE MARKET SHARE Google Yahoo 92.42...</td>\n",
       "      <td>[Other, Other]</td>\n",
       "    </tr>\n",
       "    <tr>\n",
       "      <th>15</th>\n",
       "      <td>4557770926</td>\n",
       "      <td>2023-02-09T17:38:28.000Z</td>\n",
       "      <td>1623738115545518081</td>\n",
       "      <td>Asked #ChatGPT opinion on job opportunities wh...</td>\n",
       "      <td>['1623738115545518081']</td>\n",
       "      <td>0</td>\n",
       "      <td>0</td>\n",
       "      <td>0</td>\n",
       "      <td>0</td>\n",
       "      <td>29</td>\n",
       "      <td>...</td>\n",
       "      <td>Asked hashtag chat gpt opinion on job oppounit...</td>\n",
       "      <td>0.969060</td>\n",
       "      <td>Neutral</td>\n",
       "      <td>neutral</td>\n",
       "      <td>0.563248</td>\n",
       "      <td>[https://t.co/2KPKcWNvAX]</td>\n",
       "      <td>[https://pbs.twimg.com/media/FoisuSZakAA6Pns?f...</td>\n",
       "      <td>[chat.openal.com/chat.\\n\\n‘Ge an 20 Fee Reseac...</td>\n",
       "      <td>[an 20 Fee Out goa make Al gate mete MO. de [G...</td>\n",
       "      <td>[Other]</td>\n",
       "    </tr>\n",
       "  </tbody>\n",
       "</table>\n",
       "<p>5 rows × 24 columns</p>\n",
       "</div>"
      ],
      "text/plain": [
       "     author_id                created_at                   id  \\\n",
       "0    227768169  2023-02-09T18:53:48.000Z  1623757070825660419   \n",
       "7     42633253  2023-02-09T18:05:21.000Z  1623744878030073857   \n",
       "11  3184112874  2023-02-09T17:49:10.000Z  1623740805650468864   \n",
       "12   931470139  2023-02-09T17:45:05.000Z  1623739777978626049   \n",
       "15  4557770926  2023-02-09T17:38:28.000Z  1623738115545518081   \n",
       "\n",
       "                                                 post  \\\n",
       "0   You can now text @TSA to ask them questions! P...   \n",
       "7   Please join ACEC Georgia IT Forum Chairman, Ro...   \n",
       "11  Question:\\nCan #OpenAI #ChatGPT give me LEGAL ...   \n",
       "12  Unpopular opinion: Microsoft integrating ChatG...   \n",
       "15  Asked #ChatGPT opinion on job opportunities wh...   \n",
       "\n",
       "     edit_history_tweet_ids  retweet_count  reply_count  like_count  \\\n",
       "0   ['1623757070825660419']              0            0           0   \n",
       "7   ['1623744878030073857']              0            0           0   \n",
       "11  ['1623740805650468864']              0            0           0   \n",
       "12  ['1623739777978626049']              8           26          92   \n",
       "15  ['1623738115545518081']              0            0           0   \n",
       "\n",
       "    quote_count  impression_count  ...  \\\n",
       "0             0                13  ...   \n",
       "7             0                17  ...   \n",
       "11            0                34  ...   \n",
       "12            3              8307  ...   \n",
       "15            0                29  ...   \n",
       "\n",
       "                             clean_post_for_sentiment  sentiment_score  \\\n",
       "0   You can now text  to ask them questions Please...         0.939657   \n",
       "7   Please join ACEC Georgia IT Forum Chairman Rob...         0.789183   \n",
       "11  Question\\nCan hashtag open ai hashtag chat gpt...         0.618685   \n",
       "12  Unpopular opinion Microsoft integrating ChatGP...         0.928594   \n",
       "15  Asked hashtag chat gpt opinion on job oppounit...         0.969060   \n",
       "\n",
       "   sentiment  emotion emotion_score  \\\n",
       "0    Neutral  neutral      0.916366   \n",
       "7    Neutral  neutral      0.856153   \n",
       "11   Neutral     fear      0.938373   \n",
       "12  Negative  neutral      0.470574   \n",
       "15   Neutral  neutral      0.563248   \n",
       "\n",
       "                                                 urls  \\\n",
       "0                           [https://t.co/BnEUnkynP7]   \n",
       "7   [https://t.co/pAG3JsnDFo, https://t.co/CfyCHDG...   \n",
       "11                          [https://t.co/Ny2jsVbG1b]   \n",
       "12                          [https://t.co/SVnVwg1ys8]   \n",
       "15                          [https://t.co/2KPKcWNvAX]   \n",
       "\n",
       "                                            imgs_urls  \\\n",
       "0   [https://pbs.twimg.com/media/FoizvygXoAEbo12?f...   \n",
       "7   [https://pbs.twimg.com/media/FoizW7PWIAIsAX7?f...   \n",
       "11  [https://pbs.twimg.com/media/FwBvrdzacAAqsE4?f...   \n",
       "12  [https://pbs.twimg.com/media/FoiuWUBWIAEfTS4?f...   \n",
       "15  [https://pbs.twimg.com/media/FoisuSZakAA6Pns?f...   \n",
       "\n",
       "                                           imgs_texts  \\\n",
       "0   [=\\n\\n=\\nASKTSA\\n\\nv er [~)\\n@AskTSA Text \"TRA...   \n",
       "7   [ACEC Georgia\\n\\nIT FORUM\\n\\nFebruary 22, 2023...   \n",
       "11                                                 []   \n",
       "12  [EARTHWEB\\n\\nSEARCH ENGINE MARKET SHARE\\n\\nGoo...   \n",
       "15  [chat.openal.com/chat.\\n\\n‘Ge an 20 Fee Reseac...   \n",
       "\n",
       "                                     imgs_clean_texts imgs_text_source  \n",
       "0                    [v er Text \"TRAVEL\" to (275872)]          [Other]  \n",
       "7      [Georgia IT FORUM February 22, 2023 PM PM EDT]          [Other]  \n",
       "11                                                 []          [Other]  \n",
       "12  [SEARCH ENGINE MARKET SHARE Google Yahoo 92.42...   [Other, Other]  \n",
       "15  [an 20 Fee Out goa make Al gate mete MO. de [G...          [Other]  \n",
       "\n",
       "[5 rows x 24 columns]"
      ]
     },
     "execution_count": 113,
     "metadata": {},
     "output_type": "execute_result"
    }
   ],
   "source": [
    "posts[posts[\"imgs_clean_texts\"].map(len) > 0].head()"
   ]
  },
  {
   "cell_type": "markdown",
   "id": "f6bbbbc5-823f-45c3-9b8a-8abb35d2fb92",
   "metadata": {},
   "source": [
    "# Save data to file"
   ]
  },
  {
   "cell_type": "code",
   "execution_count": null,
   "id": "8f0a7027-b010-4865-a25c-987c620e6104",
   "metadata": {},
   "outputs": [],
   "source": [
    "save_file_path = tweets_file_name.split[\".csv\"][0] + \"_img_texts\" + \".csv\"\n",
    "posts.to_csv(save_file_path, index=False)"
   ]
  }
 ],
 "metadata": {
  "kernelspec": {
   "display_name": "Python 3 (ipykernel)",
   "language": "python",
   "name": "python3"
  },
  "language_info": {
   "codemirror_mode": {
    "name": "ipython",
    "version": 3
   },
   "file_extension": ".py",
   "mimetype": "text/x-python",
   "name": "python",
   "nbconvert_exporter": "python",
   "pygments_lexer": "ipython3",
   "version": "3.8.16"
  }
 },
 "nbformat": 4,
 "nbformat_minor": 5
}
